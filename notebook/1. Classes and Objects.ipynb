{
 "cells": [
  {
   "cell_type": "code",
   "execution_count": 1,
   "id": "33441af2",
   "metadata": {},
   "outputs": [],
   "source": [
    "# syntax\n",
    "\n",
    "class person():\n",
    "    pass"
   ]
  },
  {
   "cell_type": "code",
   "execution_count": 2,
   "id": "7b89898f",
   "metadata": {},
   "outputs": [
    {
     "name": "stdout",
     "output_type": "stream",
     "text": [
      "hai\n"
     ]
    }
   ],
   "source": [
    "# class with print\n",
    "\n",
    "class person():\n",
    "    print(\"hai\")"
   ]
  },
  {
   "cell_type": "code",
   "execution_count": 3,
   "id": "9835d0b8",
   "metadata": {},
   "outputs": [
    {
     "name": "stdout",
     "output_type": "stream",
     "text": [
      "hai\n",
      "<__main__.person object at 0x00000210AC7EADD0>\n"
     ]
    }
   ],
   "source": [
    "# printing the class\n",
    "class person():\n",
    "    print(\"hai\")\n",
    "    \n",
    "print(person())"
   ]
  },
  {
   "cell_type": "code",
   "execution_count": 4,
   "id": "7fbf71d5",
   "metadata": {},
   "outputs": [
    {
     "name": "stdout",
     "output_type": "stream",
     "text": [
      "hai\n",
      "10\n"
     ]
    }
   ],
   "source": [
    "# class with variable\n",
    "\n",
    "class person():\n",
    "    print(\"hai\")\n",
    "    a=10\n",
    "    print(a)"
   ]
  },
  {
   "cell_type": "code",
   "execution_count": 5,
   "id": "ba1c6597",
   "metadata": {},
   "outputs": [
    {
     "name": "stdout",
     "output_type": "stream",
     "text": [
      "hai\n"
     ]
    },
    {
     "ename": "NameError",
     "evalue": "name 'a' is not defined",
     "output_type": "error",
     "traceback": [
      "\u001b[1;31m---------------------------------------------------------------------------\u001b[0m",
      "\u001b[1;31mNameError\u001b[0m                                 Traceback (most recent call last)",
      "Cell \u001b[1;32mIn[5], line 6\u001b[0m\n\u001b[0;32m      4\u001b[0m     \u001b[38;5;28mprint\u001b[39m(\u001b[38;5;124m\"\u001b[39m\u001b[38;5;124mhai\u001b[39m\u001b[38;5;124m\"\u001b[39m)\n\u001b[0;32m      5\u001b[0m     a\u001b[38;5;241m=\u001b[39m\u001b[38;5;241m10\u001b[39m\n\u001b[1;32m----> 6\u001b[0m \u001b[38;5;28mprint\u001b[39m(a)\n",
      "\u001b[1;31mNameError\u001b[0m: name 'a' is not defined"
     ]
    }
   ],
   "source": [
    "# calling the variable outside the class\n",
    "\n",
    "class person():\n",
    "    print(\"hai\")\n",
    "    a=10\n",
    "print(a)"
   ]
  },
  {
   "cell_type": "code",
   "execution_count": 6,
   "id": "e8dae9f5",
   "metadata": {},
   "outputs": [
    {
     "name": "stdout",
     "output_type": "stream",
     "text": [
      "hai\n",
      "10\n"
     ]
    }
   ],
   "source": [
    "# creating object\n",
    "\n",
    "class person():\n",
    "    print(\"hai\")\n",
    "    a=10\n",
    "    \n",
    "obj = person()\n",
    "print(obj.a)"
   ]
  },
  {
   "cell_type": "code",
   "execution_count": 7,
   "id": "cd92ff60",
   "metadata": {},
   "outputs": [
    {
     "name": "stdout",
     "output_type": "stream",
     "text": [
      "hai\n",
      "10\n",
      "<class '__main__.person'>\n"
     ]
    }
   ],
   "source": [
    "# class and object\n",
    "\n",
    "class person():\n",
    "    print(\"hai\")\n",
    "    a=10\n",
    "    \n",
    "obj = person()\n",
    "print(obj.a)\n",
    "print(type(obj))"
   ]
  },
  {
   "cell_type": "code",
   "execution_count": 8,
   "id": "d0b53697",
   "metadata": {},
   "outputs": [
    {
     "name": "stdout",
     "output_type": "stream",
     "text": [
      "hai\n",
      "10\n",
      "10\n"
     ]
    }
   ],
   "source": [
    "# creating multiple objects\n",
    "\n",
    "class person():\n",
    "    print(\"hai\")\n",
    "    a=10\n",
    "    \n",
    "obj = person()\n",
    "\n",
    "obj2 = person()\n",
    "print(obj.a)\n",
    "print(obj2.a)"
   ]
  },
  {
   "cell_type": "code",
   "execution_count": null,
   "id": "f43b3952",
   "metadata": {},
   "outputs": [],
   "source": []
  }
 ],
 "metadata": {
  "kernelspec": {
   "display_name": "Python 3 (ipykernel)",
   "language": "python",
   "name": "python3"
  },
  "language_info": {
   "codemirror_mode": {
    "name": "ipython",
    "version": 3
   },
   "file_extension": ".py",
   "mimetype": "text/x-python",
   "name": "python",
   "nbconvert_exporter": "python",
   "pygments_lexer": "ipython3",
   "version": "3.11.4"
  }
 },
 "nbformat": 4,
 "nbformat_minor": 5
}
