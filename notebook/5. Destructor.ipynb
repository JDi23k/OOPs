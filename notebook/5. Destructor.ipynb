{
 "cells": [
  {
   "cell_type": "code",
   "execution_count": null,
   "id": "a974b299",
   "metadata": {},
   "outputs": [],
   "source": [
    "# Destructor"
   ]
  },
  {
   "cell_type": "code",
   "execution_count": 1,
   "id": "be2f2423",
   "metadata": {},
   "outputs": [
    {
     "name": "stdout",
     "output_type": "stream",
     "text": [
      "Object Created\n",
      "Object Deleted\n"
     ]
    }
   ],
   "source": [
    "class Test:\n",
    "    def __init__(self):\n",
    "        print('Object Created')\n",
    "    def __del__(self):\n",
    "        print('Object Deleted')\n",
    "        \n",
    "\n",
    "obj = Test()\n",
    "del obj"
   ]
  },
  {
   "cell_type": "code",
   "execution_count": 3,
   "id": "d5d5e9ae",
   "metadata": {},
   "outputs": [
    {
     "name": "stdout",
     "output_type": "stream",
     "text": [
      "The name is Sakthi\n",
      "The age is 23\n",
      "The destructor is called\n"
     ]
    }
   ],
   "source": [
    "class Person:\n",
    "    def __init__(self, name, age):\n",
    "        self.name = name\n",
    "        self.age = age\n",
    "        print('The name is', self.name)\n",
    "        print('The age is', self.age)\n",
    "    def __del__(self):\n",
    "        print(\"The destructor is called\")\n",
    "        \n",
    "obj1 = Person('Sakthi', 23)\n",
    "del obj1"
   ]
  },
  {
   "cell_type": "code",
   "execution_count": 4,
   "id": "f4af9855",
   "metadata": {},
   "outputs": [
    {
     "name": "stdout",
     "output_type": "stream",
     "text": [
      "The name is Sakthi\n",
      "The age is 23\n",
      "The destructor is called\n"
     ]
    }
   ],
   "source": [
    "class Person:\n",
    "    \n",
    "    def __del__(self):\n",
    "        print(\"The destructor is called\")\n",
    "        \n",
    "    def __init__(self, name, age):\n",
    "        self.name = name\n",
    "        self.age = age\n",
    "        print('The name is', self.name)\n",
    "        print('The age is', self.age)\n",
    "    \n",
    "        \n",
    "obj1 = Person('Sakthi', 23)\n",
    "del obj1"
   ]
  },
  {
   "cell_type": "code",
   "execution_count": null,
   "id": "ff981212",
   "metadata": {},
   "outputs": [],
   "source": []
  }
 ],
 "metadata": {
  "kernelspec": {
   "display_name": "Python 3 (ipykernel)",
   "language": "python",
   "name": "python3"
  },
  "language_info": {
   "codemirror_mode": {
    "name": "ipython",
    "version": 3
   },
   "file_extension": ".py",
   "mimetype": "text/x-python",
   "name": "python",
   "nbconvert_exporter": "python",
   "pygments_lexer": "ipython3",
   "version": "3.11.5"
  }
 },
 "nbformat": 4,
 "nbformat_minor": 5
}
