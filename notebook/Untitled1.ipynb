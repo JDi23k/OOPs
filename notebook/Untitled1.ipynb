{
 "cells": [
  {
   "cell_type": "markdown",
   "id": "269e547d",
   "metadata": {},
   "source": [
    "### polymorphism"
   ]
  },
  {
   "cell_type": "markdown",
   "id": "2f75f117",
   "metadata": {},
   "source": [
    "### polymorphism in '+' operators"
   ]
  },
  {
   "cell_type": "code",
   "execution_count": 1,
   "id": "286e72df",
   "metadata": {},
   "outputs": [
    {
     "name": "stdout",
     "output_type": "stream",
     "text": [
      "The added value: 30\n"
     ]
    }
   ],
   "source": [
    "num1 = 10\n",
    "num2 = 20\n",
    "print(\"The added value:\", num1+num2)"
   ]
  },
  {
   "cell_type": "code",
   "execution_count": 2,
   "id": "7bb5e233",
   "metadata": {},
   "outputs": [
    {
     "name": "stdout",
     "output_type": "stream",
     "text": [
      "The added string: Happy learning\n"
     ]
    }
   ],
   "source": [
    "str1 = 'Happy '\n",
    "str2 = 'learning'\n",
    "print(\"The added string:\", str1+str2)"
   ]
  },
  {
   "cell_type": "markdown",
   "id": "d71e9692",
   "metadata": {},
   "source": [
    "### polymorphism in '*' operators"
   ]
  },
  {
   "cell_type": "code",
   "execution_count": 3,
   "id": "12f68184",
   "metadata": {},
   "outputs": [
    {
     "name": "stdout",
     "output_type": "stream",
     "text": [
      "The multiplied value: 200\n"
     ]
    }
   ],
   "source": [
    "num1 = 10\n",
    "num2 = 20\n",
    "print(\"The multiplied value:\", num1*num2)"
   ]
  },
  {
   "cell_type": "code",
   "execution_count": 4,
   "id": "9f1e9bda",
   "metadata": {},
   "outputs": [
    {
     "name": "stdout",
     "output_type": "stream",
     "text": [
      "The multiplied string: Happy learningHappy learning\n"
     ]
    }
   ],
   "source": [
    "str1 = 'Happy learning'\n",
    "num1 = 2\n",
    "print(\"The multiplied string:\", str1*num1)"
   ]
  },
  {
   "cell_type": "markdown",
   "id": "17b0fb3e",
   "metadata": {},
   "source": [
    "### polymorphism in functions"
   ]
  },
  {
   "cell_type": "code",
   "execution_count": 5,
   "id": "2dc960e4",
   "metadata": {},
   "outputs": [
    {
     "name": "stdout",
     "output_type": "stream",
     "text": [
      "14\n"
     ]
    }
   ],
   "source": [
    "print(len(\"Happy Learning\"))"
   ]
  },
  {
   "cell_type": "code",
   "execution_count": 6,
   "id": "26317a42",
   "metadata": {},
   "outputs": [
    {
     "name": "stdout",
     "output_type": "stream",
     "text": [
      "4\n"
     ]
    }
   ],
   "source": [
    "print(len(['Python', 'Gurukula', 'Happy', 'Learning']))"
   ]
  },
  {
   "cell_type": "code",
   "execution_count": 7,
   "id": "80e84014",
   "metadata": {},
   "outputs": [
    {
     "name": "stdout",
     "output_type": "stream",
     "text": [
      "2\n"
     ]
    }
   ],
   "source": [
    "print(len({'Name': 'Gurukula', 'Course': 'Python advanced series'}))"
   ]
  },
  {
   "cell_type": "markdown",
   "id": "8f317540",
   "metadata": {},
   "source": [
    "### polymorphism in classes"
   ]
  },
  {
   "cell_type": "code",
   "execution_count": 8,
   "id": "b8bf5581",
   "metadata": {},
   "outputs": [
    {
     "name": "stdout",
     "output_type": "stream",
     "text": [
      "name: sakthi\n",
      "age: 20\n",
      "name: shiva\n",
      "age: 25\n"
     ]
    }
   ],
   "source": [
    "class employee1:\n",
    "    def info(self):\n",
    "        name = 'sakthi'\n",
    "        age = 20\n",
    "        print(\"name:\", name)\n",
    "        print(\"age:\", age)\n",
    "        \n",
    "class employee2:\n",
    "    def info(self):\n",
    "        name = 'shiva'\n",
    "        age = 25\n",
    "        print(\"name:\", name)\n",
    "        print(\"age:\", age)\n",
    "        \n",
    "\n",
    "obj_emp = employee1()\n",
    "obj_adm = employee2()\n",
    "obj_emp.info()\n",
    "obj_adm.info()"
   ]
  },
  {
   "cell_type": "markdown",
   "id": "d4cb8eb3",
   "metadata": {},
   "source": [
    "### operator overloading"
   ]
  },
  {
   "cell_type": "code",
   "execution_count": 9,
   "id": "7110dc71",
   "metadata": {},
   "outputs": [
    {
     "name": "stdout",
     "output_type": "stream",
     "text": [
      "30\n"
     ]
    }
   ],
   "source": [
    "a=10\n",
    "b=20\n",
    "print(a+b)"
   ]
  },
  {
   "cell_type": "code",
   "execution_count": 10,
   "id": "a92955eb",
   "metadata": {},
   "outputs": [
    {
     "data": {
      "text/plain": [
       "39"
      ]
     },
     "execution_count": 10,
     "metadata": {},
     "output_type": "execute_result"
    }
   ],
   "source": [
    "a=10\n",
    "b=29\n",
    "int.__add__(a,b)"
   ]
  },
  {
   "cell_type": "code",
   "execution_count": 11,
   "id": "023415fd",
   "metadata": {},
   "outputs": [
    {
     "data": {
      "text/plain": [
       "'Happy learning'"
      ]
     },
     "execution_count": 11,
     "metadata": {},
     "output_type": "execute_result"
    }
   ],
   "source": [
    "a=\"Happy \"\n",
    "b=\"learning\"\n",
    "str.__add__(a,b)"
   ]
  },
  {
   "cell_type": "code",
   "execution_count": 12,
   "id": "9d979c68",
   "metadata": {},
   "outputs": [
    {
     "ename": "TypeError",
     "evalue": "can only concatenate str (not \"int\") to str",
     "output_type": "error",
     "traceback": [
      "\u001b[1;31m---------------------------------------------------------------------------\u001b[0m",
      "\u001b[1;31mTypeError\u001b[0m                                 Traceback (most recent call last)",
      "Cell \u001b[1;32mIn[12], line 3\u001b[0m\n\u001b[0;32m      1\u001b[0m a \u001b[38;5;241m=\u001b[39m \u001b[38;5;124m\"\u001b[39m\u001b[38;5;124mHappy \u001b[39m\u001b[38;5;124m\"\u001b[39m\n\u001b[0;32m      2\u001b[0m b \u001b[38;5;241m=\u001b[39m \u001b[38;5;241m20\u001b[39m\n\u001b[1;32m----> 3\u001b[0m \u001b[38;5;28mstr\u001b[39m\u001b[38;5;241m.\u001b[39m\u001b[38;5;21m__add__\u001b[39m(a,b)\n",
      "\u001b[1;31mTypeError\u001b[0m: can only concatenate str (not \"int\") to str"
     ]
    }
   ],
   "source": [
    "a = \"Happy \"\n",
    "b = 20\n",
    "str.__add__(a,b)"
   ]
  },
  {
   "cell_type": "code",
   "execution_count": 13,
   "id": "22c85804",
   "metadata": {},
   "outputs": [
    {
     "ename": "TypeError",
     "evalue": "unsupported operand type(s) for +: 'student' and 'student'",
     "output_type": "error",
     "traceback": [
      "\u001b[1;31m---------------------------------------------------------------------------\u001b[0m",
      "\u001b[1;31mTypeError\u001b[0m                                 Traceback (most recent call last)",
      "Cell \u001b[1;32mIn[13], line 7\u001b[0m\n\u001b[0;32m      5\u001b[0m s1\u001b[38;5;241m=\u001b[39mstudent(\u001b[38;5;241m10\u001b[39m, \u001b[38;5;241m20\u001b[39m)\n\u001b[0;32m      6\u001b[0m s2\u001b[38;5;241m=\u001b[39mstudent(\u001b[38;5;241m30\u001b[39m, \u001b[38;5;241m50\u001b[39m)\n\u001b[1;32m----> 7\u001b[0m s3\u001b[38;5;241m=\u001b[39ms1\u001b[38;5;241m+\u001b[39ms2\n",
      "\u001b[1;31mTypeError\u001b[0m: unsupported operand type(s) for +: 'student' and 'student'"
     ]
    }
   ],
   "source": [
    "class student:\n",
    "    def __init__(self, m1, m2):\n",
    "        self.m1 = m1\n",
    "        self.m2 = m2\n",
    "s1=student(10, 20)\n",
    "s2=student(30, 50)\n",
    "s3=s1+s2"
   ]
  },
  {
   "cell_type": "markdown",
   "id": "ec716b54",
   "metadata": {},
   "source": [
    "#### 'add' operator"
   ]
  },
  {
   "cell_type": "code",
   "execution_count": 14,
   "id": "5db7bef7",
   "metadata": {},
   "outputs": [
    {
     "name": "stdout",
     "output_type": "stream",
     "text": [
      "30\n",
      "80\n"
     ]
    }
   ],
   "source": [
    "class student:\n",
    "    def __init__(self, mark1, mark2):\n",
    "        self.m1 = mark1\n",
    "        self.m2 = mark2\n",
    "        \n",
    "    def __add__(self, temp):\n",
    "        first_stu = self.m1+self.m2\n",
    "        second_stu = temp.m1+temp.m2\n",
    "        total = student(first_stu, second_stu)\n",
    "        return total\n",
    "    \n",
    "s1 = student(10, 20)\n",
    "s2 = student(30, 50)\n",
    "total = s1+s2\n",
    "\n",
    "print(total.m1)\n",
    "print(total.m2)"
   ]
  },
  {
   "cell_type": "code",
   "execution_count": 15,
   "id": "5974c409",
   "metadata": {},
   "outputs": [
    {
     "name": "stdout",
     "output_type": "stream",
     "text": [
      "Added value: 30 80\n",
      "Subtracted value: -10 -20\n",
      "Multiplied value: 200 1500\n",
      "Average: 15.0 40.0\n"
     ]
    }
   ],
   "source": [
    "class student:\n",
    "    def __init__(self, mark1, mark2):\n",
    "        self.m1 = mark1\n",
    "        self.m2 = mark2\n",
    "    \n",
    "    \n",
    "    def __add__(self, temp):\n",
    "        first_stu = self.m1+self.m2\n",
    "        second_stu = temp.m1+temp.m2\n",
    "        total = student(first_stu, second_stu)\n",
    "        return total\n",
    "    \n",
    "    \n",
    "    def __sub__(self, temp):\n",
    "        first_stu = self.m1-self.m2\n",
    "        second_stu = temp.m1-temp.m2\n",
    "        total = student(first_stu, second_stu)\n",
    "        return total\n",
    "    \n",
    "    def __mul__(self, temp):\n",
    "        first_stu = self.m1*self.m2\n",
    "        second_stu = temp.m1*temp.m2\n",
    "        total = student(first_stu, second_stu)\n",
    "        return total\n",
    "    \n",
    "    def __truediv__(self, temp):\n",
    "        first_stu = (self.m1+self.m2)/2\n",
    "        second_stu = (temp.m1+temp.m2)/2\n",
    "        total = student(first_stu, second_stu)\n",
    "        return total\n",
    "    \n",
    "\n",
    "s1 = student(10, 20)\n",
    "s2 = student(30, 50)\n",
    "\n",
    "add = s1+s2\n",
    "sub = s1-s2\n",
    "mul = s1*s2\n",
    "div = s1/s2\n",
    "\n",
    "print(\"Added value:\", add.m1, add.m2)\n",
    "print(\"Subtracted value:\", sub.m1, sub.m2)\n",
    "print(\"Multiplied value:\", mul.m1, mul.m2)\n",
    "print(\"Average:\", div.m1, div.m2)"
   ]
  },
  {
   "cell_type": "code",
   "execution_count": null,
   "id": "7453978a",
   "metadata": {},
   "outputs": [],
   "source": []
  }
 ],
 "metadata": {
  "kernelspec": {
   "display_name": "Python 3 (ipykernel)",
   "language": "python",
   "name": "python3"
  },
  "language_info": {
   "codemirror_mode": {
    "name": "ipython",
    "version": 3
   },
   "file_extension": ".py",
   "mimetype": "text/x-python",
   "name": "python",
   "nbconvert_exporter": "python",
   "pygments_lexer": "ipython3",
   "version": "3.11.4"
  }
 },
 "nbformat": 4,
 "nbformat_minor": 5
}
