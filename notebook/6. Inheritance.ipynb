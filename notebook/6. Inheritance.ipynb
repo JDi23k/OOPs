{
 "cells": [
  {
   "cell_type": "markdown",
   "id": "71c340f6",
   "metadata": {},
   "source": [
    "### Types of inheritance\n",
    "- Single inheritance\n",
    "- Multi Level inheritance\n",
    "- Multiple inheritance\n",
    "- Hierarchical inheritance\n",
    "- Hybrid inheritance"
   ]
  },
  {
   "cell_type": "markdown",
   "id": "27cb48e2",
   "metadata": {},
   "source": [
    "### single inheritance"
   ]
  },
  {
   "cell_type": "code",
   "execution_count": 1,
   "id": "ae2e0e1d",
   "metadata": {},
   "outputs": [
    {
     "name": "stdout",
     "output_type": "stream",
     "text": [
      "Hello I'm from parent class\n",
      "Hello I'm from child class\n"
     ]
    }
   ],
   "source": [
    "class Parent:\n",
    "    def function1(self):\n",
    "        print(\"Hello I'm from parent class\")\n",
    "        \n",
    "class Child(Parent):\n",
    "    def function2(self):\n",
    "        print(\"Hello I'm from child class\")\n",
    "        \n",
    "obj = Child()\n",
    "obj.function1()\n",
    "obj.function2()"
   ]
  },
  {
   "cell_type": "code",
   "execution_count": 2,
   "id": "bcc5230d",
   "metadata": {},
   "outputs": [
    {
     "name": "stdout",
     "output_type": "stream",
     "text": [
      "employee name John\n",
      "employee age 23\n",
      "employee gender Male\n",
      "employee city chennai\n"
     ]
    }
   ],
   "source": [
    "class Person:\n",
    "    def detail(self):\n",
    "        name = 'John'\n",
    "        age = 23\n",
    "        gender = 'Male' \n",
    "        print('employee name', name)\n",
    "        print('employee age', age)\n",
    "        print('employee gender', gender)\n",
    "\n",
    "        \n",
    "class Update(Person):\n",
    "    def update_detail(self):\n",
    "        city = 'chennai'\n",
    "        print('employee city', city)\n",
    "        \n",
    "obj = Update()\n",
    "obj.detail()\n",
    "obj.update_detail()"
   ]
  },
  {
   "cell_type": "markdown",
   "id": "754e8032",
   "metadata": {},
   "source": [
    "### multilevel inheritance"
   ]
  },
  {
   "cell_type": "code",
   "execution_count": 3,
   "id": "2308243d",
   "metadata": {},
   "outputs": [
    {
     "name": "stdout",
     "output_type": "stream",
     "text": [
      "Hi, I'm from class1\n",
      "Hi, I'm from class2\n",
      "Hi, I'm from class3\n"
     ]
    }
   ],
   "source": [
    "class One:\n",
    "    def function1(self):\n",
    "        print(\"Hi, I'm from class1\")\n",
    "        \n",
    "class Two(One):\n",
    "    def function2(self):\n",
    "        print(\"Hi, I'm from class2\")\n",
    "        \n",
    "class Three(Two):\n",
    "    def function3(self):\n",
    "        print(\"Hi, I'm from class3\")\n",
    "        \n",
    "test = Three()\n",
    "test.function1()\n",
    "test.function2()\n",
    "test.function3()"
   ]
  },
  {
   "cell_type": "code",
   "execution_count": 4,
   "id": "e31aa375",
   "metadata": {},
   "outputs": [
    {
     "name": "stdout",
     "output_type": "stream",
     "text": [
      "Name: Sakthi     Age: 25      Gender: Male\n",
      "Company Name: Google     location: USA\n",
      "Salary: 24LPA      Designation: Data Scientist\n"
     ]
    }
   ],
   "source": [
    "class Person:\n",
    "    def personal(self, name, age, gender):\n",
    "        print('Name:', name, \"   \", 'Age:', age, \"    \", 'Gender:', gender)\n",
    "        \n",
    "class Company(Person):\n",
    "    def company_detail(self, name, location):\n",
    "        print('Company Name:', name, \"   \", 'location:', location)\n",
    "              \n",
    "class Other(Company):\n",
    "    def other_detail(self, salary, designation):\n",
    "              print('Salary:', salary, \"    \", \"Designation:\", designation)\n",
    "              \n",
    "\n",
    "obj = Other()\n",
    "obj.personal('Sakthi', 25, 'Male')\n",
    "obj.company_detail('Google', 'USA')\n",
    "obj.other_detail('24LPA', 'Data Scientist')"
   ]
  },
  {
   "cell_type": "markdown",
   "id": "3f8d42f3",
   "metadata": {},
   "source": [
    "### multiple inheritance"
   ]
  },
  {
   "cell_type": "code",
   "execution_count": 5,
   "id": "3395d433",
   "metadata": {},
   "outputs": [
    {
     "name": "stdout",
     "output_type": "stream",
     "text": [
      "Printing the employee detail\n",
      "\n",
      "Priting the personal details\n",
      "Name: Sakthi     Age: 25      Gender: Male\n",
      "\n",
      "Priting the professional details\n",
      "Company Name: Google     location: USA\n",
      "\n",
      "Priting the other details\n",
      "Salary: 24LPA      Designation: Data Scientist\n",
      "\n"
     ]
    }
   ],
   "source": [
    "class Person:\n",
    "    def personal(self, name, age, gender):\n",
    "        print(\"Priting the personal details\", end = '\\n')\n",
    "        print('Name:', name, \"   \", 'Age:', age, \"    \", 'Gender:', gender, end = \"\\n\\n\")\n",
    "        \n",
    "class Company():\n",
    "    def company_detail(self, name, location):\n",
    "        print(\"Priting the professional details\", end = '\\n')\n",
    "        print('Company Name:', name, \"   \", 'location:', location, end = \"\\n\\n\")\n",
    "              \n",
    "class Other():\n",
    "    def other_detail(self, salary, designation):\n",
    "        print(\"Priting the other details\", end = '\\n')\n",
    "        print('Salary:', salary, \"    \", \"Designation:\", designation, end = \"\\n\\n\")\n",
    "              \n",
    "\n",
    "class all_detail(Person, Company, Other):\n",
    "    print(\"Printing the employee detail\", end=\"\\n\\n\")\n",
    "    \n",
    "    \n",
    "obj = all_detail()\n",
    "obj.personal('Sakthi', 25, 'Male')\n",
    "obj.company_detail('Google', 'USA')\n",
    "obj.other_detail('24LPA', 'Data Scientist')"
   ]
  },
  {
   "cell_type": "markdown",
   "id": "af42bf63",
   "metadata": {},
   "source": [
    "### hierarchical inheritance"
   ]
  },
  {
   "cell_type": "code",
   "execution_count": 6,
   "id": "105cfef7",
   "metadata": {},
   "outputs": [
    {
     "name": "stdout",
     "output_type": "stream",
     "text": [
      "Father Name: shiva\n",
      "Mother Name: kavitha\n",
      "Child 1 name: john\n",
      "\n",
      "\n",
      "Father Name: shiva\n",
      "Mother Name: kavitha\n",
      "child 2 name: riya\n"
     ]
    }
   ],
   "source": [
    "class Parent:\n",
    "    def name(Self):\n",
    "        print(\"Father Name: shiva\")\n",
    "        print(\"Mother Name: kavitha\")\n",
    "        \n",
    "class child1(Parent):\n",
    "    def child_name1(self):\n",
    "        print(\"Child 1 name: john\")\n",
    "        \n",
    "class child2(Parent):\n",
    "    def child_name2(self):\n",
    "        print(\"child 2 name: riya\")\n",
    "        \n",
    "\n",
    "obj1 = child1()\n",
    "obj2 = child2()\n",
    "\n",
    "obj1.name()\n",
    "obj1.child_name1()\n",
    "\n",
    "print('\\n')\n",
    "\n",
    "obj2.name()\n",
    "obj2.child_name2()"
   ]
  },
  {
   "cell_type": "code",
   "execution_count": 7,
   "id": "be4a9deb",
   "metadata": {},
   "outputs": [
    {
     "name": "stdout",
     "output_type": "stream",
     "text": [
      "added value: 30\n",
      "sub value: 10\n"
     ]
    }
   ],
   "source": [
    "class add_sub:\n",
    "    def values(self):\n",
    "        self.a = 20\n",
    "        self.b = 10\n",
    "        \n",
    "        \n",
    "class add(add_sub):\n",
    "    def add(self):\n",
    "        print(\"added value:\", self.a+self.b)\n",
    "        \n",
    "\n",
    "class sub(add_sub):\n",
    "    def sub(self):\n",
    "        print(\"sub value:\", self.a-self.b)\n",
    "        \n",
    "\n",
    "obj1 = add()\n",
    "obj2 = sub()\n",
    "\n",
    "obj1.values()\n",
    "obj1.add()\n",
    "\n",
    "obj2.values()\n",
    "obj2.sub()"
   ]
  },
  {
   "cell_type": "markdown",
   "id": "be7e0cc1",
   "metadata": {},
   "source": [
    "### hybrid inheritance"
   ]
  },
  {
   "cell_type": "code",
   "execution_count": 8,
   "id": "0097abe8",
   "metadata": {},
   "outputs": [
    {
     "name": "stdout",
     "output_type": "stream",
     "text": [
      "Hello, I'm a dog\n",
      "Hello, I'm a Cat\n",
      "Hello, I'm a Elephant\n",
      "Hello, I'm a Horse\n"
     ]
    }
   ],
   "source": [
    "class Dog:\n",
    "    def func1(self):\n",
    "        print(\"Hello, I'm a dog\")\n",
    "        \n",
    "class Cat(Dog):\n",
    "    def func2(self):\n",
    "        print(\"Hello, I'm a Cat\")\n",
    "        \n",
    "class Elephant(Dog):\n",
    "    def func3(self):\n",
    "        print(\"Hello, I'm a Elephant\")\n",
    "        \n",
    "class Horse(Cat, Elephant):\n",
    "    def func4(self):\n",
    "        print(\"Hello, I'm a Horse\")\n",
    "        \n",
    "horse_obj = Horse()\n",
    "horse_obj.func1()\n",
    "horse_obj.func2()\n",
    "horse_obj.func3()\n",
    "horse_obj.func4()"
   ]
  },
  {
   "cell_type": "code",
   "execution_count": 9,
   "id": "51cf58d8",
   "metadata": {},
   "outputs": [
    {
     "name": "stdout",
     "output_type": "stream",
     "text": [
      "Hello, I'm a dog\n",
      "Hello, I'm a Cat\n",
      "Hello, I'm a Elephant\n",
      "Hello, I'm a Horse\n"
     ]
    }
   ],
   "source": [
    "class Dog:\n",
    "    def func1(self):\n",
    "        print(\"Hello, I'm a dog\")\n",
    "        \n",
    "class Cat(Dog):\n",
    "    def func2(self):\n",
    "        print(\"Hello, I'm a Cat\")\n",
    "        \n",
    "class Elephant(Cat):\n",
    "    def func3(self):\n",
    "        print(\"Hello, I'm a Elephant\")\n",
    "        \n",
    "class Horse(Elephant, Dog):\n",
    "    def func4(self):\n",
    "        print(\"Hello, I'm a Horse\")\n",
    "        \n",
    "horse_obj = Horse()\n",
    "horse_obj.func1()\n",
    "horse_obj.func2()\n",
    "horse_obj.func3()\n",
    "horse_obj.func4()"
   ]
  },
  {
   "cell_type": "markdown",
   "id": "a4871cb7",
   "metadata": {},
   "source": [
    "### Same Method Name"
   ]
  },
  {
   "cell_type": "code",
   "execution_count": 10,
   "id": "68cc063b",
   "metadata": {},
   "outputs": [
    {
     "name": "stdout",
     "output_type": "stream",
     "text": [
      "Hello\n"
     ]
    }
   ],
   "source": [
    "class A:\n",
    "    def a_fun(self):\n",
    "        print(\"Hai\")\n",
    "        \n",
    "class B(A):\n",
    "    def a_fun(self):\n",
    "        print(\"Hello\")\n",
    "        \n",
    "obj = B()\n",
    "obj.a_fun()"
   ]
  },
  {
   "cell_type": "markdown",
   "id": "97505284",
   "metadata": {},
   "source": [
    "- MRO -- > Method Resolution Order"
   ]
  },
  {
   "cell_type": "code",
   "execution_count": 11,
   "id": "e7d3771b",
   "metadata": {},
   "outputs": [
    {
     "data": {
      "text/plain": [
       "(__main__.B, __main__.A, object)"
      ]
     },
     "execution_count": 11,
     "metadata": {},
     "output_type": "execute_result"
    }
   ],
   "source": [
    "B.__mro__"
   ]
  },
  {
   "cell_type": "code",
   "execution_count": 12,
   "id": "211a5697",
   "metadata": {},
   "outputs": [
    {
     "name": "stdout",
     "output_type": "stream",
     "text": [
      "From C\n"
     ]
    }
   ],
   "source": [
    "class A:\n",
    "    def a_fun(self):\n",
    "        print(\"Hai\")\n",
    "        \n",
    "class B:\n",
    "    def a_fun(self):\n",
    "        print(\"Hello\")\n",
    "        \n",
    "class C(A, B):\n",
    "    def a_fun(self):\n",
    "        print(\"From C\")\n",
    "        \n",
    "obj = C()\n",
    "obj.a_fun()"
   ]
  },
  {
   "cell_type": "code",
   "execution_count": 13,
   "id": "adb467fe",
   "metadata": {},
   "outputs": [
    {
     "data": {
      "text/plain": [
       "(__main__.C, __main__.A, __main__.B, object)"
      ]
     },
     "execution_count": 13,
     "metadata": {},
     "output_type": "execute_result"
    }
   ],
   "source": [
    "C.__mro__"
   ]
  },
  {
   "cell_type": "code",
   "execution_count": 14,
   "id": "2d12f5b6",
   "metadata": {},
   "outputs": [
    {
     "name": "stdout",
     "output_type": "stream",
     "text": [
      "Hai\n"
     ]
    }
   ],
   "source": [
    "class A:\n",
    "    def a_fun(self):\n",
    "        print(\"Hai\")\n",
    "        \n",
    "class B:\n",
    "    def a_fun(self):\n",
    "        print(\"Hello\")\n",
    "        \n",
    "class C(A, B):\n",
    "    pass\n",
    "        \n",
    "obj = C()\n",
    "obj.a_fun()"
   ]
  },
  {
   "cell_type": "code",
   "execution_count": 15,
   "id": "18a5da35",
   "metadata": {},
   "outputs": [
    {
     "data": {
      "text/plain": [
       "(__main__.C, __main__.A, __main__.B, object)"
      ]
     },
     "execution_count": 15,
     "metadata": {},
     "output_type": "execute_result"
    }
   ],
   "source": [
    "C.__mro__"
   ]
  },
  {
   "cell_type": "code",
   "execution_count": 16,
   "id": "0edc2262",
   "metadata": {},
   "outputs": [
    {
     "name": "stdout",
     "output_type": "stream",
     "text": [
      "Hello\n"
     ]
    }
   ],
   "source": [
    "class A:\n",
    "    def a_fun(self):\n",
    "        print(\"Hai\")\n",
    "        \n",
    "class B:\n",
    "    def a_fun(self):\n",
    "        print(\"Hello\")\n",
    "        \n",
    "class C(B, A):\n",
    "    pass\n",
    "        \n",
    "obj = C()\n",
    "obj.a_fun()"
   ]
  },
  {
   "cell_type": "code",
   "execution_count": 17,
   "id": "47caafb2",
   "metadata": {},
   "outputs": [
    {
     "data": {
      "text/plain": [
       "(__main__.C, __main__.B, __main__.A, object)"
      ]
     },
     "execution_count": 17,
     "metadata": {},
     "output_type": "execute_result"
    }
   ],
   "source": [
    "C.__mro__"
   ]
  },
  {
   "cell_type": "markdown",
   "id": "bf2d39ea",
   "metadata": {},
   "source": [
    "### constructor in inheritance"
   ]
  },
  {
   "cell_type": "code",
   "execution_count": 18,
   "id": "9a1c6a8b",
   "metadata": {},
   "outputs": [
    {
     "name": "stdout",
     "output_type": "stream",
     "text": [
      "I'm from init A\n"
     ]
    }
   ],
   "source": [
    "class A:\n",
    "    def __init__(self):\n",
    "        print(\"I'm from init A\")\n",
    "    def func1(self):\n",
    "        print(\"I'm Func1\")\n",
    "        \n",
    "class B(A):\n",
    "    def fun2(self):\n",
    "        print(\"I'm Func2\")\n",
    "        \n",
    "obj = A()"
   ]
  },
  {
   "cell_type": "code",
   "execution_count": 19,
   "id": "941d9c84",
   "metadata": {},
   "outputs": [
    {
     "name": "stdout",
     "output_type": "stream",
     "text": [
      "I'm from init A\n"
     ]
    }
   ],
   "source": [
    "class A:\n",
    "    def __init__(self):\n",
    "        print(\"I'm from init A\")\n",
    "    def func1(self):\n",
    "        print(\"I'm Func1\")\n",
    "        \n",
    "class B(A):\n",
    "    def fun2(self):\n",
    "        print(\"I'm Func2\")\n",
    "        \n",
    "obj = B()"
   ]
  },
  {
   "cell_type": "code",
   "execution_count": 20,
   "id": "7f2f09c4",
   "metadata": {},
   "outputs": [
    {
     "name": "stdout",
     "output_type": "stream",
     "text": [
      "I'm from init B\n"
     ]
    }
   ],
   "source": [
    "class A:\n",
    "    def __init__(self):\n",
    "        print(\"I'm from init A\")\n",
    "    def func1(self):\n",
    "        print(\"I'm Func1\")\n",
    "        \n",
    "class B(A):\n",
    "    def __init__(self):\n",
    "        print(\"I'm from init B\")\n",
    "    def fun2(self):\n",
    "        print(\"I'm Func2\")\n",
    "        \n",
    "aobj = B()"
   ]
  },
  {
   "cell_type": "code",
   "execution_count": 21,
   "id": "58e256fb",
   "metadata": {},
   "outputs": [
    {
     "name": "stdout",
     "output_type": "stream",
     "text": [
      "I'm teacher\n",
      "I'm a student\n"
     ]
    }
   ],
   "source": [
    "# Example\n",
    "\n",
    "class Teacher:\n",
    "    def __init__(self):\n",
    "        print(\"I'm teacher\")\n",
    "        \n",
    "class Student(Teacher):\n",
    "    def func1(self):\n",
    "        print(\"I'm a student\")\n",
    "        \n",
    "st = Student()\n",
    "st.func1()"
   ]
  },
  {
   "cell_type": "code",
   "execution_count": 22,
   "id": "c4d9fac1",
   "metadata": {},
   "outputs": [
    {
     "name": "stdout",
     "output_type": "stream",
     "text": [
      "I'm teacher\n",
      "Handling subject: computer science\n",
      "I'm a student\n"
     ]
    }
   ],
   "source": [
    "class Teacher:\n",
    "    def __init__(self):\n",
    "        self.sub = 'computer science'\n",
    "        print(\"I'm teacher\")\n",
    "        print(\"Handling subject:\", self.sub)\n",
    "        \n",
    "        \n",
    "class Student(Teacher):\n",
    "    def func1(self):\n",
    "        print(\"I'm a student\")\n",
    "        \n",
    "st = Student()\n",
    "st.func1()"
   ]
  },
  {
   "cell_type": "code",
   "execution_count": 23,
   "id": "c48f3e90",
   "metadata": {},
   "outputs": [
    {
     "name": "stdout",
     "output_type": "stream",
     "text": [
      "I'm teacher\n",
      "I'm a student\n",
      "Favourite subject: computer science\n"
     ]
    }
   ],
   "source": [
    "class Teacher:\n",
    "    def __init__(self):\n",
    "        self.sub = 'computer science'\n",
    "        print(\"I'm teacher\")\n",
    "        \n",
    "        \n",
    "class Student(Teacher):\n",
    "    def func1(self):\n",
    "        print(\"I'm a student\")\n",
    "        print(\"Favourite subject:\", self.sub)\n",
    "        \n",
    "st = Student()\n",
    "st.func1()"
   ]
  },
  {
   "cell_type": "code",
   "execution_count": 24,
   "id": "cade7f34",
   "metadata": {},
   "outputs": [
    {
     "name": "stdout",
     "output_type": "stream",
     "text": [
      "I'm teacher\n",
      "I'm a student\n",
      "Favourite subject: Computer science\n"
     ]
    }
   ],
   "source": [
    "class Teacher:\n",
    "    def __init__(self, s):\n",
    "        self.sub = s\n",
    "        print(\"I'm teacher\")\n",
    "        \n",
    "        \n",
    "class Student(Teacher):\n",
    "    def func1(self):\n",
    "        print(\"I'm a student\")\n",
    "        print(\"Favourite subject:\", self.sub)\n",
    "        \n",
    "st = Student('Computer science')\n",
    "st.func1()"
   ]
  },
  {
   "cell_type": "markdown",
   "id": "e32643b6",
   "metadata": {},
   "source": [
    "### super()"
   ]
  },
  {
   "cell_type": "code",
   "execution_count": 25,
   "id": "9f1370c3",
   "metadata": {},
   "outputs": [
    {
     "name": "stdout",
     "output_type": "stream",
     "text": [
      "I'm from init B\n"
     ]
    }
   ],
   "source": [
    "class A:\n",
    "    def __init__(self):\n",
    "        print(\"I'm from init A\")\n",
    "    def func1(self):\n",
    "        print(\"I'm Func1\")\n",
    "        \n",
    "class B(A):\n",
    "    def __init__(self):\n",
    "        print(\"I'm from init B\")\n",
    "    def func2(self):\n",
    "        print(\"I'm Func2\")\n",
    "        \n",
    "aobj = B()"
   ]
  },
  {
   "cell_type": "code",
   "execution_count": 26,
   "id": "d6cd5af6",
   "metadata": {},
   "outputs": [
    {
     "name": "stdout",
     "output_type": "stream",
     "text": [
      "I'm from init A\n",
      "I'm from init B\n"
     ]
    }
   ],
   "source": [
    "class A:\n",
    "    def __init__(self):\n",
    "        print(\"I'm from init A\")\n",
    "    def func1(self):\n",
    "        print(\"I'm Func1\")\n",
    "        \n",
    "class B(A):\n",
    "    def __init__(self):\n",
    "        super().__init__()\n",
    "        print(\"I'm from init B\")\n",
    "    def func2(self):\n",
    "        print(\"I'm Func2\")\n",
    "        \n",
    "aobj = B()"
   ]
  },
  {
   "cell_type": "code",
   "execution_count": 27,
   "id": "d1a95b56",
   "metadata": {},
   "outputs": [
    {
     "name": "stdout",
     "output_type": "stream",
     "text": [
      "I'm from init A\n",
      "I'm from init B\n",
      "I'm Func2\n"
     ]
    }
   ],
   "source": [
    "class A:\n",
    "    def __init__(self):\n",
    "        print(\"I'm from init A\")\n",
    "    def func1(self):\n",
    "        print(\"I'm Func1\")\n",
    "        \n",
    "class B(A):\n",
    "    def __init__(self):\n",
    "        super().__init__()\n",
    "        print(\"I'm from init B\")\n",
    "    def func2(self):\n",
    "        print(\"I'm Func2\")\n",
    "        \n",
    "aobj = B()\n",
    "aobj.func2()"
   ]
  },
  {
   "cell_type": "code",
   "execution_count": 28,
   "id": "ac000afe",
   "metadata": {},
   "outputs": [
    {
     "name": "stdout",
     "output_type": "stream",
     "text": [
      "I'm from init C\n"
     ]
    }
   ],
   "source": [
    "class A:\n",
    "    def __init__(self):\n",
    "        print(\"I'm from init A\")\n",
    "    def func1(self):\n",
    "        print(\"I'm Func1\")\n",
    "        \n",
    "class B:\n",
    "    def __init__(self):\n",
    "        print(\"I'm from init B\")\n",
    "    def func2(self):\n",
    "        print(\"I'm Func2\")\n",
    "\n",
    "        \n",
    "class C(A, B):\n",
    "    def __init__(self):\n",
    "        print(\"I'm from init C\")\n",
    "\n",
    "        \n",
    "aobj = C()"
   ]
  },
  {
   "cell_type": "code",
   "execution_count": 29,
   "id": "d3b714f3",
   "metadata": {},
   "outputs": [
    {
     "name": "stdout",
     "output_type": "stream",
     "text": [
      "I'm from init A\n"
     ]
    }
   ],
   "source": [
    "class A:\n",
    "    def __init__(self):\n",
    "        print(\"I'm from init A\")\n",
    "    def func1(self):\n",
    "        print(\"I'm Func1\")\n",
    "        \n",
    "class B:\n",
    "    def __init__(self):\n",
    "        print(\"I'm from init B\")\n",
    "    def func2(self):\n",
    "        print(\"I'm Func2\")\n",
    "\n",
    "        \n",
    "class C(A, B):\n",
    "    pass\n",
    "\n",
    "        \n",
    "aobj = C()"
   ]
  },
  {
   "cell_type": "code",
   "execution_count": 30,
   "id": "b459c6e2",
   "metadata": {},
   "outputs": [
    {
     "name": "stdout",
     "output_type": "stream",
     "text": [
      "I'm from init A\n",
      "I'm from init C\n"
     ]
    }
   ],
   "source": [
    "class A:\n",
    "    def __init__(self):\n",
    "        print(\"I'm from init A\")\n",
    "    def func1(self):\n",
    "        print(\"I'm Func1\")\n",
    "        \n",
    "class B:\n",
    "    def __init__(self):\n",
    "        print(\"I'm from init B\")\n",
    "    def func2(self):\n",
    "        print(\"I'm Func2\")\n",
    "\n",
    "        \n",
    "class C(A, B):\n",
    "    def __init__(self):\n",
    "        super().__init__()\n",
    "        print(\"I'm from init C\")\n",
    "\n",
    "        \n",
    "aobj = C()"
   ]
  },
  {
   "cell_type": "markdown",
   "id": "db1012ec",
   "metadata": {},
   "source": [
    "### super() in single inheritance"
   ]
  },
  {
   "cell_type": "code",
   "execution_count": 31,
   "id": "0f133d6c",
   "metadata": {},
   "outputs": [
    {
     "name": "stdout",
     "output_type": "stream",
     "text": [
      "Hai I'm from method1\n"
     ]
    }
   ],
   "source": [
    "class Test:\n",
    "    def method1(self):\n",
    "        print(\"Hai I'm from method1\")\n",
    "        \n",
    "class Test2:\n",
    "    def method2(self):\n",
    "        Test.method1(self)\n",
    "        \n",
    "t = Test2()\n",
    "t.method2()"
   ]
  },
  {
   "cell_type": "code",
   "execution_count": 32,
   "id": "c655bc5f",
   "metadata": {},
   "outputs": [
    {
     "name": "stdout",
     "output_type": "stream",
     "text": [
      "Hai I'm from method1\n"
     ]
    }
   ],
   "source": [
    "class Test:\n",
    "    def method1(self):\n",
    "        print(\"Hai I'm from method1\")\n",
    "        \n",
    "class Test2(Test):\n",
    "    def method2(self):\n",
    "        Test.method1(self)\n",
    "        \n",
    "t = Test2()\n",
    "t.method2()"
   ]
  },
  {
   "cell_type": "code",
   "execution_count": 33,
   "id": "ab07895b",
   "metadata": {},
   "outputs": [
    {
     "name": "stdout",
     "output_type": "stream",
     "text": [
      "Hai I'm from method1\n",
      "I'm from method2\n"
     ]
    }
   ],
   "source": [
    "class Test:\n",
    "    def method1(self):\n",
    "        print(\"Hai I'm from method1\")\n",
    "        \n",
    "class Test2(Test):\n",
    "    def method2(self):\n",
    "        super().method1()\n",
    "        print(\"I'm from method2\")\n",
    "        \n",
    "t = Test2()\n",
    "t.method2()"
   ]
  },
  {
   "cell_type": "code",
   "execution_count": 34,
   "id": "c2e1c1fb",
   "metadata": {},
   "outputs": [
    {
     "name": "stdout",
     "output_type": "stream",
     "text": [
      "I'm from method2\n",
      "Hai I'm from method1\n"
     ]
    }
   ],
   "source": [
    "class Test:\n",
    "    def method1(self):\n",
    "        print(\"Hai I'm from method1\")\n",
    "        \n",
    "class Test2(Test):\n",
    "    def method2(self):\n",
    "        print(\"I'm from method2\")\n",
    "        super().method1()\n",
    "        \n",
    "        \n",
    "t = Test2()\n",
    "t.method2()"
   ]
  },
  {
   "cell_type": "code",
   "execution_count": 35,
   "id": "5ef5258d",
   "metadata": {},
   "outputs": [
    {
     "name": "stdout",
     "output_type": "stream",
     "text": [
      "Hai I'm from method3\n",
      "Hai I'm from method1\n",
      "Hai I'm from method2\n"
     ]
    }
   ],
   "source": [
    "class Test:\n",
    "    def method1(self):\n",
    "        print(\"Hai I'm from method1\")\n",
    "        \n",
    "    def method2(self):\n",
    "        print(\"Hai I'm from method2\")\n",
    "        \n",
    "class Test2(Test):\n",
    "    def method3(self):\n",
    "        print(\"Hai I'm from method3\")\n",
    "        super().method1()\n",
    "        super().method2()\n",
    "        \n",
    "        \n",
    "t = Test2()\n",
    "t.method3()"
   ]
  },
  {
   "cell_type": "code",
   "execution_count": 36,
   "id": "94f9ca32",
   "metadata": {},
   "outputs": [
    {
     "name": "stdout",
     "output_type": "stream",
     "text": [
      "person1 name sakthi\n"
     ]
    }
   ],
   "source": [
    "class Person1:\n",
    "    def detail(self, name):\n",
    "        print(\"person1 name\", name)\n",
    "        \n",
    "class Person2(Person1):\n",
    "    def detail2(self):\n",
    "        super().detail(\"sakthi\")\n",
    "        \n",
    "obj = Person2()\n",
    "obj.detail2()"
   ]
  },
  {
   "cell_type": "code",
   "execution_count": 37,
   "id": "5beb856d",
   "metadata": {},
   "outputs": [
    {
     "name": "stdout",
     "output_type": "stream",
     "text": [
      "person1 name sakthi\n"
     ]
    }
   ],
   "source": [
    "class Person1:\n",
    "    def detail(self, name):\n",
    "        print(\"person1 name\", name)\n",
    "        \n",
    "class Person2(Person1):\n",
    "    def detail2(self):\n",
    "        Person1.detail(self, \"sakthi\")\n",
    "        \n",
    "obj = Person2()\n",
    "obj.detail2()"
   ]
  },
  {
   "cell_type": "markdown",
   "id": "91316c1e",
   "metadata": {},
   "source": [
    "### super() in multiple inheritance"
   ]
  },
  {
   "cell_type": "code",
   "execution_count": 38,
   "id": "609ff958",
   "metadata": {},
   "outputs": [
    {
     "name": "stdout",
     "output_type": "stream",
     "text": [
      "Printing the employee detail\n",
      "\n",
      "Priting the personal details\n",
      "Name: Sakthi     Age: 25      Gender: Male\n",
      "\n",
      "Priting the professional details\n",
      "Company Name: Google     location: USA\n",
      "\n",
      "Priting the other details\n",
      "Salary: 24LPA      Designation: Data Scientist\n",
      "\n"
     ]
    }
   ],
   "source": [
    "class Person:\n",
    "    def personal(self, name, age, gender):\n",
    "        print(\"Priting the personal details\", end = '\\n')\n",
    "        print('Name:', name, \"   \", 'Age:', age, \"    \", 'Gender:', gender, end = \"\\n\\n\")\n",
    "        \n",
    "class Company():\n",
    "    def company_detail(self, name, location):\n",
    "        print(\"Priting the professional details\", end = '\\n')\n",
    "        print('Company Name:', name, \"   \", 'location:', location, end = \"\\n\\n\")\n",
    "              \n",
    "class Other():\n",
    "    def other_detail(self, salary, designation):\n",
    "        print(\"Priting the other details\", end = '\\n')\n",
    "        print('Salary:', salary, \"    \", \"Designation:\", designation, end = \"\\n\\n\")\n",
    "              \n",
    "\n",
    "class all_detail(Person, Company, Other):\n",
    "    def show(self):\n",
    "        print(\"Printing the employee detail\", end=\"\\n\\n\")\n",
    "        super().personal('Sakthi', 25, 'Male')\n",
    "        super().company_detail('Google', 'USA')\n",
    "        super().other_detail('24LPA', 'Data Scientist')\n",
    "    \n",
    "    \n",
    "obj = all_detail()\n",
    "obj.show()"
   ]
  },
  {
   "cell_type": "markdown",
   "id": "6962791d",
   "metadata": {},
   "source": [
    "### super() in multilevel inheritance"
   ]
  },
  {
   "cell_type": "code",
   "execution_count": 39,
   "id": "ffe141d3",
   "metadata": {},
   "outputs": [
    {
     "name": "stdout",
     "output_type": "stream",
     "text": [
      "Priniting from class C\n",
      "Priniting from class B\n",
      "Priniting from class A\n"
     ]
    }
   ],
   "source": [
    "class A:\n",
    "    def method1(self):\n",
    "        print(\"Priniting from class A\")\n",
    "        \n",
    "class B(A):\n",
    "    def method2(self):\n",
    "        print(\"Priniting from class B\")\n",
    "        super().method1()\n",
    "        \n",
    "class C(B):\n",
    "    def method3(self):\n",
    "        print(\"Priniting from class C\")\n",
    "        super().method2()\n",
    "        \n",
    "c = C()\n",
    "c.method3()"
   ]
  },
  {
   "cell_type": "code",
   "execution_count": 40,
   "id": "b4de220b",
   "metadata": {},
   "outputs": [
    {
     "name": "stdout",
     "output_type": "stream",
     "text": [
      "Priniting from class C\n",
      "Priniting from class B\n",
      "Priniting from class A\n"
     ]
    }
   ],
   "source": [
    "class A:\n",
    "    def method(self):\n",
    "        print(\"Priniting from class A\")\n",
    "        \n",
    "class B(A):\n",
    "    def method(self):\n",
    "        print(\"Priniting from class B\")\n",
    "        super().method()\n",
    "        \n",
    "class C(B):\n",
    "    def method(self):\n",
    "        print(\"Priniting from class C\")\n",
    "        super().method()\n",
    "        \n",
    "c = C()\n",
    "c.method()"
   ]
  },
  {
   "cell_type": "code",
   "execution_count": 41,
   "id": "fcfb5b90",
   "metadata": {},
   "outputs": [
    {
     "name": "stdout",
     "output_type": "stream",
     "text": [
      "Constructor - class C\n",
      "Constructor - class B\n",
      "Constructor - class A\n",
      "Printing from class C\n",
      "Printing from class B\n",
      "Printing from class A\n"
     ]
    }
   ],
   "source": [
    "class A:\n",
    "    def __init__(self):\n",
    "        print(\"Constructor - class A\")\n",
    "    \n",
    "    def method(self):\n",
    "        print(\"Printing from class A\")\n",
    "        \n",
    "class B(A):\n",
    "    def __init__(self):\n",
    "        print(\"Constructor - class B\")\n",
    "        super().__init__()\n",
    "    \n",
    "    def method(self):\n",
    "        print(\"Printing from class B\")\n",
    "        super().method()\n",
    "        \n",
    "class C(B):\n",
    "    def __init__(self):\n",
    "        print(\"Constructor - class C\")\n",
    "        super().__init__()\n",
    "        \n",
    "    def method(self):\n",
    "        print(\"Printing from class C\")\n",
    "        super().method()\n",
    "        \n",
    "c = C()\n",
    "c.method()"
   ]
  },
  {
   "cell_type": "code",
   "execution_count": 42,
   "id": "7421d8b1",
   "metadata": {},
   "outputs": [
    {
     "name": "stdout",
     "output_type": "stream",
     "text": [
      "Constructor - class C\n",
      "Constructor - class B\n",
      "Constructor - class A\n",
      "Printing from class C: 1\n",
      "Printing from class B: 2\n",
      "Printing from class A: 3\n"
     ]
    }
   ],
   "source": [
    "class A:\n",
    "    def __init__(self):\n",
    "        print(\"Constructor - class A\")\n",
    "    \n",
    "    def method(self, b):\n",
    "        print(\"Printing from class A:\", b)\n",
    "        \n",
    "class B(A):\n",
    "    def __init__(self):\n",
    "        print(\"Constructor - class B\")\n",
    "        super().__init__()\n",
    "    \n",
    "    def method(self, b):\n",
    "        print(\"Printing from class B:\", b)\n",
    "        super().method(b + 1)\n",
    "        \n",
    "class C(B):\n",
    "    def __init__(self):\n",
    "        print(\"Constructor - class C\")\n",
    "        super().__init__()\n",
    "        \n",
    "    def method(self, b):\n",
    "        print(\"Printing from class C:\", b)\n",
    "        super().method(b + 1)\n",
    "        \n",
    "c = C()\n",
    "c.method(1)"
   ]
  },
  {
   "cell_type": "markdown",
   "id": "d59df896",
   "metadata": {},
   "source": [
    "### super() - example"
   ]
  },
  {
   "cell_type": "code",
   "execution_count": 43,
   "id": "cd7cf661",
   "metadata": {},
   "outputs": [
    {
     "name": "stdout",
     "output_type": "stream",
     "text": [
      "rectangle: 6\n",
      "cube: 24\n"
     ]
    }
   ],
   "source": [
    "class rectangle:\n",
    "    def __init__(self, length, breadth):\n",
    "        self.length = length\n",
    "        self.breadth = breadth\n",
    "        print(\"rectangle:\", self.length * self.breadth)\n",
    "        \n",
    "\n",
    "class cube:\n",
    "    def __init__(self, length, breadth, height):\n",
    "        self.length = length\n",
    "        self.breadth = breadth\n",
    "        self.height = height\n",
    "        print(\"cube:\", self.length * self.breadth * self.height)\n",
    "        \n",
    "r = rectangle(2,3)\n",
    "c = cube(2,3,4)"
   ]
  },
  {
   "cell_type": "code",
   "execution_count": 44,
   "id": "637fa8c9",
   "metadata": {},
   "outputs": [
    {
     "name": "stdout",
     "output_type": "stream",
     "text": [
      "rectangle: 6\n",
      "cube: 24\n"
     ]
    }
   ],
   "source": [
    "class shape:\n",
    "    def __init__(self, length, breadth):\n",
    "        self.length = length\n",
    "        self.breadth = breadth\n",
    "        \n",
    "class rectangle(shape):\n",
    "    def __init__(self, length, breadth):\n",
    "        super().__init__(length, breadth)\n",
    "        print(\"rectangle:\", self.length * self.breadth)\n",
    "        \n",
    "\n",
    "class cube(shape):\n",
    "    def __init__(self, length, breadth, height):\n",
    "        super().__init__(length, breadth)\n",
    "        self.height = height\n",
    "        print(\"cube:\", self.length * self.breadth * self.height)\n",
    "        \n",
    "r = rectangle(2,3)\n",
    "c = cube(2,3,4)"
   ]
  },
  {
   "cell_type": "code",
   "execution_count": 45,
   "id": "82d6ea94",
   "metadata": {},
   "outputs": [
    {
     "name": "stdout",
     "output_type": "stream",
     "text": [
      "rectangle: 6\n",
      "cube: 24\n"
     ]
    }
   ],
   "source": [
    "class shape:\n",
    "    def __init__(self, length, breadth):\n",
    "        self.length = length\n",
    "        self.breadth = breadth\n",
    "        self.res = self.length * self.breadth\n",
    "        \n",
    "class rectangle(shape):\n",
    "    def __init__(self, length, breadth):\n",
    "        super().__init__(length, breadth)\n",
    "        print(\"rectangle:\", self.res)\n",
    "        \n",
    "\n",
    "class cube(shape):\n",
    "    def __init__(self, length, breadth, height):\n",
    "        super().__init__(length, breadth)\n",
    "        self.height = height\n",
    "        print(\"cube:\", self.res * self.height)\n",
    "        \n",
    "r = rectangle(2,3)\n",
    "c = cube(2,3,4)"
   ]
  },
  {
   "cell_type": "code",
   "execution_count": 46,
   "id": "8ef3019e",
   "metadata": {},
   "outputs": [
    {
     "name": "stdout",
     "output_type": "stream",
     "text": [
      "square: 4\n",
      "rectangle: 6\n",
      "cube: 24\n"
     ]
    }
   ],
   "source": [
    "class shape:\n",
    "    def __init__(self, length, breadth):\n",
    "        self.length = length\n",
    "        self.breadth = breadth\n",
    "        self.res = self.length * self.breadth\n",
    "        \n",
    "class square(shape):\n",
    "    def __init__(self, length):\n",
    "        super().__init__(length, length)\n",
    "        print(\"square:\", self.res)\n",
    "        \n",
    "            \n",
    "class rectangle(shape):\n",
    "    def __init__(self, length, breadth):\n",
    "        super().__init__(length, breadth)\n",
    "        print(\"rectangle:\", self.res)\n",
    "        \n",
    "\n",
    "class cube(shape):\n",
    "    def __init__(self, length, breadth, height):\n",
    "        super().__init__(length, breadth)\n",
    "        self.height = height\n",
    "        print(\"cube:\", self.res * self.height)\n",
    "        \n",
    "        \n",
    "s = square(2)\n",
    "r = rectangle(2,3)\n",
    "c = cube(2,3,4)"
   ]
  }
 ],
 "metadata": {
  "kernelspec": {
   "display_name": "Python 3 (ipykernel)",
   "language": "python",
   "name": "python3"
  },
  "language_info": {
   "codemirror_mode": {
    "name": "ipython",
    "version": 3
   },
   "file_extension": ".py",
   "mimetype": "text/x-python",
   "name": "python",
   "nbconvert_exporter": "python",
   "pygments_lexer": "ipython3",
   "version": "3.11.4"
  }
 },
 "nbformat": 4,
 "nbformat_minor": 5
}
