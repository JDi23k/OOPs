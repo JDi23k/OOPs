{
 "cells": [
  {
   "cell_type": "code",
   "execution_count": 1,
   "id": "c11f9103",
   "metadata": {},
   "outputs": [],
   "source": [
    "# defining the function\n",
    "def greeting():\n",
    "    print(\"Hello, i'm from function\")"
   ]
  },
  {
   "cell_type": "code",
   "execution_count": 2,
   "id": "11c6d1d9",
   "metadata": {},
   "outputs": [
    {
     "name": "stdout",
     "output_type": "stream",
     "text": [
      "Hello, i'm from function\n"
     ]
    }
   ],
   "source": [
    "# defining the function\n",
    "def greeting():\n",
    "    print(\"Hello, i'm from function\")\n",
    "    \n",
    "# calling the function\n",
    "greeting()"
   ]
  },
  {
   "cell_type": "code",
   "execution_count": 3,
   "id": "db14f404",
   "metadata": {},
   "outputs": [
    {
     "name": "stdout",
     "output_type": "stream",
     "text": [
      "Hello, i'm from function\n",
      "Happy learning\n"
     ]
    }
   ],
   "source": [
    "# multiple prints in the function\n",
    "def greeting():\n",
    "    print(\"Hello, i'm from function\")\n",
    "    print('Happy learning')\n",
    "    \n",
    "\n",
    "greeting()"
   ]
  },
  {
   "cell_type": "code",
   "execution_count": 4,
   "id": "58406681",
   "metadata": {},
   "outputs": [
    {
     "name": "stdout",
     "output_type": "stream",
     "text": [
      "Hello, i'm from function\n",
      "Happy learning\n",
      "\n",
      "I'm calling the second time\n",
      "\n",
      "Hello, i'm from function\n",
      "Happy learning\n"
     ]
    }
   ],
   "source": [
    "# multiple time calling the function\n",
    "\n",
    "def greeting():\n",
    "    print(\"Hello, i'm from function\")\n",
    "    print('Happy learning')\n",
    "    \n",
    "\n",
    "greeting()\n",
    "print('')\n",
    "print(\"I'm calling the second time\")\n",
    "print('')\n",
    "greeting()"
   ]
  },
  {
   "cell_type": "code",
   "execution_count": 5,
   "id": "9c9304e9",
   "metadata": {},
   "outputs": [
    {
     "ename": "NameError",
     "evalue": "name 'test' is not defined",
     "output_type": "error",
     "traceback": [
      "\u001b[1;31m---------------------------------------------------------------------------\u001b[0m",
      "\u001b[1;31mNameError\u001b[0m                                 Traceback (most recent call last)",
      "Cell \u001b[1;32mIn[5], line 1\u001b[0m\n\u001b[1;32m----> 1\u001b[0m test()\n\u001b[0;32m      3\u001b[0m \u001b[38;5;28;01mdef\u001b[39;00m \u001b[38;5;21mtest\u001b[39m():\n\u001b[0;32m      4\u001b[0m     \u001b[38;5;28mprint\u001b[39m(\u001b[38;5;124m\"\u001b[39m\u001b[38;5;124mHello, i\u001b[39m\u001b[38;5;124m'\u001b[39m\u001b[38;5;124mm from test\u001b[39m\u001b[38;5;124m\"\u001b[39m)\n",
      "\u001b[1;31mNameError\u001b[0m: name 'test' is not defined"
     ]
    }
   ],
   "source": [
    "#function should be defined first, before calling the function\n",
    "test()\n",
    "\n",
    "def test():\n",
    "    print(\"Hello, i'm from test\")\n",
    "# function should be definied "
   ]
  },
  {
   "cell_type": "code",
   "execution_count": 6,
   "id": "1f1858ac",
   "metadata": {},
   "outputs": [
    {
     "name": "stdout",
     "output_type": "stream",
     "text": [
      "Hello, i'm from test\n"
     ]
    }
   ],
   "source": [
    "def test():\n",
    "    print(\"Hello, i'm from test\")\n",
    "    \n",
    "test()"
   ]
  },
  {
   "cell_type": "markdown",
   "id": "ce68d92d",
   "metadata": {},
   "source": [
    "### Tasks"
   ]
  },
  {
   "cell_type": "code",
   "execution_count": 7,
   "id": "62ca3863",
   "metadata": {},
   "outputs": [
    {
     "name": "stdout",
     "output_type": "stream",
     "text": [
      "Hai, i'm from function\n"
     ]
    }
   ],
   "source": [
    "# defining the function\n",
    "def greeting():\n",
    "    print(\"Hai, i'm from function\")\n",
    "    \n",
    "# calling the function\n",
    "greeting()"
   ]
  },
  {
   "cell_type": "code",
   "execution_count": 8,
   "id": "8c347602",
   "metadata": {},
   "outputs": [
    {
     "name": "stdout",
     "output_type": "stream",
     "text": [
      "Hai, Neha... Good Morning\n"
     ]
    }
   ],
   "source": [
    "# defining the function\n",
    "def greeting():\n",
    "    print(\"Hai, Neha... Good Morning\")\n",
    "    \n",
    "# calling the function\n",
    "greeting()"
   ]
  },
  {
   "cell_type": "code",
   "execution_count": 9,
   "id": "655f4e2b",
   "metadata": {},
   "outputs": [
    {
     "name": "stdout",
     "output_type": "stream",
     "text": [
      "Hai, Kushi... Good Morning\n"
     ]
    }
   ],
   "source": [
    "# defining the function\n",
    "def greeting():\n",
    "    print(\"Hai, Kushi... Good Morning\")\n",
    "    \n",
    "# calling the function\n",
    "greeting()"
   ]
  },
  {
   "cell_type": "markdown",
   "id": "26e30cba",
   "metadata": {},
   "source": [
    "#### functions with arguments"
   ]
  },
  {
   "cell_type": "code",
   "execution_count": 11,
   "id": "12c96bf1",
   "metadata": {},
   "outputs": [
    {
     "name": "stdout",
     "output_type": "stream",
     "text": [
      "Hai Neha Good morning\n"
     ]
    }
   ],
   "source": [
    "def greeting(name):\n",
    "    print(\"Hai\", name, \"Good morning\")\n",
    "    \n",
    "greeting(\"Neha\")"
   ]
  },
  {
   "cell_type": "code",
   "execution_count": null,
   "id": "1e67504b",
   "metadata": {},
   "outputs": [],
   "source": []
  }
 ],
 "metadata": {
  "kernelspec": {
   "display_name": "Python 3 (ipykernel)",
   "language": "python",
   "name": "python3"
  },
  "language_info": {
   "codemirror_mode": {
    "name": "ipython",
    "version": 3
   },
   "file_extension": ".py",
   "mimetype": "text/x-python",
   "name": "python",
   "nbconvert_exporter": "python",
   "pygments_lexer": "ipython3",
   "version": "3.11.4"
  }
 },
 "nbformat": 4,
 "nbformat_minor": 5
}
