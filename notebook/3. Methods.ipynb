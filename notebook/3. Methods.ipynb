{
 "cells": [
  {
   "cell_type": "markdown",
   "id": "1ff1074a",
   "metadata": {},
   "source": [
    "### classes and objects"
   ]
  },
  {
   "cell_type": "code",
   "execution_count": 2,
   "id": "7d196f58",
   "metadata": {},
   "outputs": [
    {
     "name": "stdout",
     "output_type": "stream",
     "text": [
      "hai\n",
      "10\n"
     ]
    }
   ],
   "source": [
    "class person():\n",
    "    print('hai')\n",
    "    a=10\n",
    "\n",
    "    \n",
    "obj = person()\n",
    "print(obj.a)"
   ]
  },
  {
   "cell_type": "code",
   "execution_count": 3,
   "id": "4b5de6ed",
   "metadata": {},
   "outputs": [
    {
     "name": "stdout",
     "output_type": "stream",
     "text": [
      "hai\n",
      "10\n",
      "10\n"
     ]
    }
   ],
   "source": [
    "class person():\n",
    "    print('hai')\n",
    "    a=10\n",
    "\n",
    "    \n",
    "obj = person()\n",
    "obj2 = person()\n",
    "print(obj.a)\n",
    "print(obj2.a)"
   ]
  },
  {
   "cell_type": "markdown",
   "id": "131093e2",
   "metadata": {},
   "source": [
    "### methods(functions)"
   ]
  },
  {
   "cell_type": "code",
   "execution_count": 4,
   "id": "396cde67",
   "metadata": {},
   "outputs": [
    {
     "name": "stdout",
     "output_type": "stream",
     "text": [
      "hello\n"
     ]
    }
   ],
   "source": [
    "def msg():\n",
    "    print('hello')\n",
    "    \n",
    "msg()"
   ]
  },
  {
   "cell_type": "code",
   "execution_count": 1,
   "id": "c49fb235",
   "metadata": {},
   "outputs": [
    {
     "ename": "NameError",
     "evalue": "name 'msg' is not defined",
     "output_type": "error",
     "traceback": [
      "\u001b[1;31m---------------------------------------------------------------------------\u001b[0m",
      "\u001b[1;31mNameError\u001b[0m                                 Traceback (most recent call last)",
      "Cell \u001b[1;32mIn[1], line 5\u001b[0m\n\u001b[0;32m      2\u001b[0m     \u001b[38;5;28;01mdef\u001b[39;00m \u001b[38;5;21mmsg\u001b[39m():\n\u001b[0;32m      3\u001b[0m         \u001b[38;5;28mprint\u001b[39m(\u001b[38;5;124m'\u001b[39m\u001b[38;5;124mhello\u001b[39m\u001b[38;5;124m'\u001b[39m)\n\u001b[1;32m----> 5\u001b[0m msg()\n",
      "\u001b[1;31mNameError\u001b[0m: name 'msg' is not defined"
     ]
    }
   ],
   "source": [
    "class text():\n",
    "    def msg():\n",
    "        print('hello')\n",
    "        \n",
    "msg()"
   ]
  },
  {
   "cell_type": "code",
   "execution_count": 2,
   "id": "dee4868d",
   "metadata": {},
   "outputs": [
    {
     "ename": "NameError",
     "evalue": "name 'msg' is not defined",
     "output_type": "error",
     "traceback": [
      "\u001b[1;31m---------------------------------------------------------------------------\u001b[0m",
      "\u001b[1;31mNameError\u001b[0m                                 Traceback (most recent call last)",
      "Cell \u001b[1;32mIn[2], line 6\u001b[0m\n\u001b[0;32m      3\u001b[0m         \u001b[38;5;28mprint\u001b[39m(\u001b[38;5;124m'\u001b[39m\u001b[38;5;124mhello\u001b[39m\u001b[38;5;124m'\u001b[39m)\n\u001b[0;32m      5\u001b[0m a\u001b[38;5;241m=\u001b[39mtext()        \n\u001b[1;32m----> 6\u001b[0m msg()\n",
      "\u001b[1;31mNameError\u001b[0m: name 'msg' is not defined"
     ]
    }
   ],
   "source": [
    "class text():\n",
    "    def msg():\n",
    "        print('hello')\n",
    "\n",
    "a=text()        \n",
    "msg()"
   ]
  },
  {
   "cell_type": "code",
   "execution_count": 5,
   "id": "1643abbf",
   "metadata": {},
   "outputs": [
    {
     "ename": "TypeError",
     "evalue": "text.msg() takes 0 positional arguments but 1 was given",
     "output_type": "error",
     "traceback": [
      "\u001b[1;31m---------------------------------------------------------------------------\u001b[0m",
      "\u001b[1;31mTypeError\u001b[0m                                 Traceback (most recent call last)",
      "Cell \u001b[1;32mIn[5], line 6\u001b[0m\n\u001b[0;32m      3\u001b[0m         \u001b[38;5;28mprint\u001b[39m(\u001b[38;5;124m'\u001b[39m\u001b[38;5;124mhello\u001b[39m\u001b[38;5;124m'\u001b[39m)\n\u001b[0;32m      5\u001b[0m a\u001b[38;5;241m=\u001b[39mtext()        \n\u001b[1;32m----> 6\u001b[0m a\u001b[38;5;241m.\u001b[39mmsg()\n",
      "\u001b[1;31mTypeError\u001b[0m: text.msg() takes 0 positional arguments but 1 was given"
     ]
    }
   ],
   "source": [
    "class text():\n",
    "    def msg():\n",
    "        print('hello')\n",
    "\n",
    "a=text()        \n",
    "a.msg()"
   ]
  },
  {
   "cell_type": "code",
   "execution_count": 6,
   "id": "47427c8a",
   "metadata": {},
   "outputs": [
    {
     "name": "stdout",
     "output_type": "stream",
     "text": [
      "hello\n"
     ]
    }
   ],
   "source": [
    "# self\n",
    "class text():\n",
    "    def msg(self):\n",
    "        print('hello')\n",
    "\n",
    "a=text()        \n",
    "a.msg()"
   ]
  },
  {
   "cell_type": "code",
   "execution_count": 7,
   "id": "05b5019b",
   "metadata": {},
   "outputs": [
    {
     "name": "stdout",
     "output_type": "stream",
     "text": [
      "hello\n"
     ]
    }
   ],
   "source": [
    "class text():\n",
    "    def msg(default): # just need to pass one argument\n",
    "        print('hello')\n",
    "\n",
    "a=text()        \n",
    "a.msg()"
   ]
  },
  {
   "cell_type": "code",
   "execution_count": 8,
   "id": "8326dff7",
   "metadata": {},
   "outputs": [
    {
     "name": "stdout",
     "output_type": "stream",
     "text": [
      "hello\n",
      "hello\n"
     ]
    }
   ],
   "source": [
    "class text():\n",
    "    def msg(self):\n",
    "        print('hello')\n",
    "\n",
    "a=text()\n",
    "b=text()\n",
    "a.msg()\n",
    "b.msg()"
   ]
  },
  {
   "cell_type": "code",
   "execution_count": 9,
   "id": "d8885c94",
   "metadata": {},
   "outputs": [
    {
     "name": "stdout",
     "output_type": "stream",
     "text": [
      "hello\n"
     ]
    }
   ],
   "source": [
    "class text():\n",
    "    def msg(self):\n",
    "        print('hello')\n",
    "\n",
    "a=text()\n",
    "text.msg(a)"
   ]
  },
  {
   "cell_type": "code",
   "execution_count": 10,
   "id": "654732da",
   "metadata": {},
   "outputs": [
    {
     "name": "stdout",
     "output_type": "stream",
     "text": [
      "hello\n",
      "hello\n"
     ]
    }
   ],
   "source": [
    "class text():\n",
    "    def msg(self):\n",
    "        print('hello')\n",
    "\n",
    "a=text()\n",
    "b=text()\n",
    "text.msg(a)\n",
    "text.msg(b)"
   ]
  },
  {
   "cell_type": "markdown",
   "id": "50798130",
   "metadata": {},
   "source": [
    "### self parameter"
   ]
  },
  {
   "cell_type": "code",
   "execution_count": 3,
   "id": "ebdb0053",
   "metadata": {},
   "outputs": [
    {
     "name": "stdout",
     "output_type": "stream",
     "text": [
      "the added value of 10 and 20 is 30\n"
     ]
    }
   ],
   "source": [
    "def addition(a,b):\n",
    "    c=a+b\n",
    "    print(\"the added value of\", a ,\"and\", b, \"is\", c)\n",
    "    \n",
    "\n",
    "addition(10,20)"
   ]
  },
  {
   "cell_type": "code",
   "execution_count": 5,
   "id": "b8c79b77",
   "metadata": {},
   "outputs": [
    {
     "ename": "TypeError",
     "evalue": "addition.add() takes 2 positional arguments but 3 were given",
     "output_type": "error",
     "traceback": [
      "\u001b[1;31m---------------------------------------------------------------------------\u001b[0m",
      "\u001b[1;31mTypeError\u001b[0m                                 Traceback (most recent call last)",
      "Cell \u001b[1;32mIn[5], line 8\u001b[0m\n\u001b[0;32m      4\u001b[0m         \u001b[38;5;28mprint\u001b[39m(\u001b[38;5;124m\"\u001b[39m\u001b[38;5;124mthe added value of\u001b[39m\u001b[38;5;124m\"\u001b[39m, a ,\u001b[38;5;124m\"\u001b[39m\u001b[38;5;124mand\u001b[39m\u001b[38;5;124m\"\u001b[39m, b, \u001b[38;5;124m\"\u001b[39m\u001b[38;5;124mis\u001b[39m\u001b[38;5;124m\"\u001b[39m, c)\n\u001b[0;32m      7\u001b[0m a\u001b[38;5;241m=\u001b[39maddition()\n\u001b[1;32m----> 8\u001b[0m a\u001b[38;5;241m.\u001b[39madd(\u001b[38;5;241m10\u001b[39m,\u001b[38;5;241m20\u001b[39m)\n",
      "\u001b[1;31mTypeError\u001b[0m: addition.add() takes 2 positional arguments but 3 were given"
     ]
    }
   ],
   "source": [
    "class addition():\n",
    "    def add(a,b):\n",
    "        c=a+b\n",
    "        print(\"the added value of\", a ,\"and\", b, \"is\", c)\n",
    "    \n",
    "    \n",
    "a=addition()\n",
    "a.add(10,20)"
   ]
  },
  {
   "cell_type": "code",
   "execution_count": 6,
   "id": "b4f43ade",
   "metadata": {},
   "outputs": [
    {
     "name": "stdout",
     "output_type": "stream",
     "text": [
      "the added value of 10 and 20 is 30\n"
     ]
    }
   ],
   "source": [
    "class addition():\n",
    "    def add(self,a,b):\n",
    "        c=a+b\n",
    "        print(\"the added value of\", a ,\"and\", b, \"is\", c)\n",
    "    \n",
    "    \n",
    "a=addition()\n",
    "a.add(10,20)"
   ]
  },
  {
   "cell_type": "code",
   "execution_count": 7,
   "id": "1aa284d8",
   "metadata": {},
   "outputs": [
    {
     "name": "stdout",
     "output_type": "stream",
     "text": [
      "the added value of 10 20 and 20 is 50\n"
     ]
    }
   ],
   "source": [
    "class addition():\n",
    "    d=20\n",
    "    def add(self,a,b):\n",
    "        c=a+b+self.d\n",
    "        print(\"the added value of\", a , b, \"and\", self.d, \"is\", c)\n",
    "    \n",
    "    \n",
    "a=addition()\n",
    "a.add(10,20)"
   ]
  },
  {
   "cell_type": "code",
   "execution_count": 8,
   "id": "aa9285f7",
   "metadata": {},
   "outputs": [
    {
     "name": "stdout",
     "output_type": "stream",
     "text": [
      "the added value of 10 20 and 20 is 50\n",
      "the added value of 10 3 and 20 is 33\n"
     ]
    }
   ],
   "source": [
    "class addition():\n",
    "    d=20\n",
    "    def add(self,a,b):\n",
    "        c=a+b+self.d\n",
    "        print(\"the added value of\", a , b, \"and\", self.d, \"is\", c)\n",
    "    \n",
    "    \n",
    "a=addition()\n",
    "b=addition()\n",
    "a.add(10,20)\n",
    "b.add(10,3)"
   ]
  },
  {
   "cell_type": "code",
   "execution_count": 10,
   "id": "93068287",
   "metadata": {},
   "outputs": [
    {
     "ename": "NameError",
     "evalue": "name 'd' is not defined",
     "output_type": "error",
     "traceback": [
      "\u001b[1;31m---------------------------------------------------------------------------\u001b[0m",
      "\u001b[1;31mNameError\u001b[0m                                 Traceback (most recent call last)",
      "Cell \u001b[1;32mIn[10], line 10\u001b[0m\n\u001b[0;32m      8\u001b[0m a\u001b[38;5;241m=\u001b[39maddition()\n\u001b[0;32m      9\u001b[0m b\u001b[38;5;241m=\u001b[39maddition()\n\u001b[1;32m---> 10\u001b[0m a\u001b[38;5;241m.\u001b[39madd(\u001b[38;5;241m10\u001b[39m,\u001b[38;5;241m20\u001b[39m)\n\u001b[0;32m     11\u001b[0m b\u001b[38;5;241m.\u001b[39madd(\u001b[38;5;241m10\u001b[39m,\u001b[38;5;241m3\u001b[39m)\n",
      "Cell \u001b[1;32mIn[10], line 4\u001b[0m, in \u001b[0;36maddition.add\u001b[1;34m(self, a, b)\u001b[0m\n\u001b[0;32m      3\u001b[0m \u001b[38;5;28;01mdef\u001b[39;00m \u001b[38;5;21madd\u001b[39m(\u001b[38;5;28mself\u001b[39m,a,b):\n\u001b[1;32m----> 4\u001b[0m     c\u001b[38;5;241m=\u001b[39ma\u001b[38;5;241m+\u001b[39mb\u001b[38;5;241m+\u001b[39md\n\u001b[0;32m      5\u001b[0m     \u001b[38;5;28mprint\u001b[39m(\u001b[38;5;124m\"\u001b[39m\u001b[38;5;124mthe added value of\u001b[39m\u001b[38;5;124m\"\u001b[39m, a , b, \u001b[38;5;124m\"\u001b[39m\u001b[38;5;124mand\u001b[39m\u001b[38;5;124m\"\u001b[39m, d, \u001b[38;5;124m\"\u001b[39m\u001b[38;5;124mis\u001b[39m\u001b[38;5;124m\"\u001b[39m, c)\n",
      "\u001b[1;31mNameError\u001b[0m: name 'd' is not defined"
     ]
    }
   ],
   "source": [
    "class addition():\n",
    "    d=20\n",
    "    def add(self,a,b):\n",
    "        c=a+b+d\n",
    "        print(\"the added value of\", a , b, \"and\", d, \"is\", c)\n",
    "    \n",
    "    \n",
    "a=addition()\n",
    "b=addition()\n",
    "a.add(10,20)\n",
    "b.add(10,3)"
   ]
  },
  {
   "cell_type": "code",
   "execution_count": 2,
   "id": "9f1d15a1",
   "metadata": {},
   "outputs": [
    {
     "name": "stdout",
     "output_type": "stream",
     "text": [
      "my name is sakthi\n",
      "age is 23\n",
      "gender is male\n"
     ]
    }
   ],
   "source": [
    "class Person:\n",
    "    def get_detail(self):\n",
    "        name = 'sakthi'\n",
    "        age = 23\n",
    "        gender = 'male'\n",
    "        print('my name is', name)\n",
    "        print('age is', age)\n",
    "        print('gender is', gender)\n",
    "        \n",
    "c=Person()\n",
    "c.get_detail()"
   ]
  },
  {
   "cell_type": "code",
   "execution_count": 3,
   "id": "2cf68bf8",
   "metadata": {},
   "outputs": [
    {
     "ename": "NameError",
     "evalue": "name 'name' is not defined",
     "output_type": "error",
     "traceback": [
      "\u001b[1;31m---------------------------------------------------------------------------\u001b[0m",
      "\u001b[1;31mNameError\u001b[0m                                 Traceback (most recent call last)",
      "Cell \u001b[1;32mIn[3], line 13\u001b[0m\n\u001b[0;32m     11\u001b[0m c\u001b[38;5;241m=\u001b[39mPerson()\n\u001b[0;32m     12\u001b[0m c\u001b[38;5;241m.\u001b[39mget_detail()\n\u001b[1;32m---> 13\u001b[0m c\u001b[38;5;241m.\u001b[39mprint_detail()\n",
      "Cell \u001b[1;32mIn[3], line 7\u001b[0m, in \u001b[0;36mPerson.print_detail\u001b[1;34m(self)\u001b[0m\n\u001b[0;32m      6\u001b[0m \u001b[38;5;28;01mdef\u001b[39;00m \u001b[38;5;21mprint_detail\u001b[39m(\u001b[38;5;28mself\u001b[39m):\n\u001b[1;32m----> 7\u001b[0m     \u001b[38;5;28mprint\u001b[39m(\u001b[38;5;124m'\u001b[39m\u001b[38;5;124mmy name is\u001b[39m\u001b[38;5;124m'\u001b[39m, name)\n\u001b[0;32m      8\u001b[0m     \u001b[38;5;28mprint\u001b[39m(\u001b[38;5;124m'\u001b[39m\u001b[38;5;124mage is\u001b[39m\u001b[38;5;124m'\u001b[39m, age)\n\u001b[0;32m      9\u001b[0m     \u001b[38;5;28mprint\u001b[39m(\u001b[38;5;124m'\u001b[39m\u001b[38;5;124mgender is\u001b[39m\u001b[38;5;124m'\u001b[39m, gender)\n",
      "\u001b[1;31mNameError\u001b[0m: name 'name' is not defined"
     ]
    }
   ],
   "source": [
    "class Person:\n",
    "    def get_detail(self):\n",
    "        name = 'sakthi'\n",
    "        age = 23\n",
    "        gender = 'male'\n",
    "    def print_detail(self):\n",
    "        print('my name is', name)\n",
    "        print('age is', age)\n",
    "        print('gender is', gender)\n",
    "        \n",
    "c=Person()\n",
    "c.get_detail()\n",
    "c.print_detail()"
   ]
  },
  {
   "cell_type": "code",
   "execution_count": 4,
   "id": "8136e1ad",
   "metadata": {},
   "outputs": [
    {
     "name": "stdout",
     "output_type": "stream",
     "text": [
      "my name is sakthi\n",
      "age is 23\n",
      "gender is male\n"
     ]
    }
   ],
   "source": [
    "class Person:\n",
    "    def get_detail(self):\n",
    "        self.name = 'sakthi'\n",
    "        self.age = 23\n",
    "        self.gender = 'male'\n",
    "    def print_detail(self):\n",
    "        print('my name is', self.name)\n",
    "        print('age is', self.age)\n",
    "        print('gender is', self.gender)\n",
    "        \n",
    "c=Person()\n",
    "c.get_detail()\n",
    "c.print_detail()"
   ]
  },
  {
   "cell_type": "code",
   "execution_count": 8,
   "id": "401e1772",
   "metadata": {},
   "outputs": [
    {
     "name": "stdout",
     "output_type": "stream",
     "text": [
      "my name is Jeeva\n",
      "age is 23\n",
      "gender is Male\n",
      "\n",
      "my name is Sachin\n",
      "age is 45\n",
      "gender is Male\n"
     ]
    }
   ],
   "source": [
    "class Person:\n",
    "    def get_detail(self, name, age, gender):\n",
    "        self.name = name\n",
    "        self.age = age\n",
    "        self.gender = gender\n",
    "    def print_detail(self):\n",
    "        print('my name is', self.name)\n",
    "        print('age is', self.age)\n",
    "        print('gender is', self.gender)\n",
    "        \n",
    "c=Person()\n",
    "c.get_detail('Jeeva', 23, 'Male')\n",
    "c.print_detail()\n",
    "print('')\n",
    "d=Person()\n",
    "d.get_detail('Sachin', 45, 'Male')\n",
    "d.print_detail()"
   ]
  },
  {
   "cell_type": "markdown",
   "id": "444f956e",
   "metadata": {},
   "source": [
    "### without self parameter"
   ]
  },
  {
   "cell_type": "code",
   "execution_count": 11,
   "id": "22aa3d3b",
   "metadata": {},
   "outputs": [
    {
     "name": "stdout",
     "output_type": "stream",
     "text": [
      "Sakthi\n",
      "23\n",
      "male\n",
      "jeeva\n",
      "28\n",
      "male\n"
     ]
    }
   ],
   "source": [
    "class Person:\n",
    "    name = \"\"\n",
    "    age = 0\n",
    "    gender = \"\"\n",
    "    \n",
    "person1 = Person()\n",
    "person1.name = 'Sakthi'\n",
    "person1.age = 23\n",
    "person1.gender = 'male'\n",
    "\n",
    "person2 = Person()\n",
    "person2.name = 'jeeva'\n",
    "person2.age = 28\n",
    "person2.gender = 'male'\n",
    "\n",
    "print(person1.name)\n",
    "print(person1.age)\n",
    "print(person1.gender)\n",
    "print(person2.name) \n",
    "print(person2.age)\n",
    "print(person2.gender)"
   ]
  },
  {
   "cell_type": "code",
   "execution_count": 10,
   "id": "647d2799",
   "metadata": {},
   "outputs": [
    {
     "name": "stdout",
     "output_type": "stream",
     "text": [
      "Sakthi is 23 years old -  male\n",
      "jeeva is 28 years old -  male\n"
     ]
    }
   ],
   "source": [
    "class Person:\n",
    "    name = \"\"\n",
    "    age = 0\n",
    "    gender = \"\"\n",
    "    \n",
    "person1 = Person()\n",
    "person1.name = 'Sakthi'\n",
    "person1.age = 23\n",
    "person1.gender = 'male'\n",
    "\n",
    "person2 = Person()\n",
    "person2.name = 'jeeva'\n",
    "person2.age = 28\n",
    "person2.gender = 'male'\n",
    "\n",
    "print(person1.name, 'is', person1.age, 'years old - ', person1.gender)\n",
    "print(person2.name, 'is', person2.age, 'years old - ', person2.gender)"
   ]
  },
  {
   "cell_type": "code",
   "execution_count": 16,
   "id": "48947bd9",
   "metadata": {},
   "outputs": [
    {
     "name": "stdout",
     "output_type": "stream",
     "text": [
      "my name is sakthi\n",
      "age is 10\n",
      "gender is male\n"
     ]
    }
   ],
   "source": [
    "class Person:\n",
    "    name = \"\"\n",
    "    age = 0\n",
    "    gender = \"\"\n",
    "    def print_detail(self):\n",
    "        print('my name is', c.name)\n",
    "        print('age is', c.age)\n",
    "        print('gender is', c.gender)\n",
    "\n",
    "c=Person()\n",
    "c.name = 'sakthi'\n",
    "c.age = 10\n",
    "c.gender = 'male'\n",
    "c.print_detail()"
   ]
  },
  {
   "cell_type": "code",
   "execution_count": 17,
   "id": "1ab4d447",
   "metadata": {},
   "outputs": [
    {
     "name": "stdout",
     "output_type": "stream",
     "text": [
      "Area of Room 1309.0\n"
     ]
    }
   ],
   "source": [
    "class Room:\n",
    "    length = 0.0\n",
    "    breadth = 0.0\n",
    "    def calculate_area(self):\n",
    "        print(\"Area of Room\", room1.length * room1.breadth)\n",
    "        \n",
    "room1 = Room()\n",
    "\n",
    "room1.length = 42.5\n",
    "room1.breadth = 30.8\n",
    "\n",
    "room1.calculate_area()"
   ]
  },
  {
   "cell_type": "code",
   "execution_count": null,
   "id": "027abe68",
   "metadata": {},
   "outputs": [],
   "source": [
    "class Room:\n",
    "    \n",
    "    def calculate_area(self):\n",
    "        length = 0.0\n",
    "        breadth = 0.0\n",
    "        print(\"Area of Room\", room1.length * room1.breadth)\n",
    "        \n",
    "room1 = Room()\n",
    "\n",
    "room1.length = 42.5\n",
    "room1.breadth = 30.8\n",
    "\n",
    "room1.calculate_area()"
   ]
  }
 ],
 "metadata": {
  "kernelspec": {
   "display_name": "Python 3 (ipykernel)",
   "language": "python",
   "name": "python3"
  },
  "language_info": {
   "codemirror_mode": {
    "name": "ipython",
    "version": 3
   },
   "file_extension": ".py",
   "mimetype": "text/x-python",
   "name": "python",
   "nbconvert_exporter": "python",
   "pygments_lexer": "ipython3",
   "version": "3.11.4"
  }
 },
 "nbformat": 4,
 "nbformat_minor": 5
}
