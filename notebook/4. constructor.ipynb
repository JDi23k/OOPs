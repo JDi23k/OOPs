{
 "cells": [
  {
   "cell_type": "code",
   "execution_count": 1,
   "id": "d672f074",
   "metadata": {},
   "outputs": [],
   "source": [
    "# constructor\n",
    "\n",
    "\"\"\"\n",
    "the task of constructors is to initialize(assign values) to the data members of the class\n",
    "when an object of class is created\n",
    "\"\"\""
   ]
  },
  {
   "cell_type": "markdown",
   "id": "fd2e41ce",
   "metadata": {},
   "source": [
    "### Types of constructors\n",
    "- Default\n",
    "- Parameterized"
   ]
  },
  {
   "cell_type": "markdown",
   "id": "ed9abcea",
   "metadata": {},
   "source": [
    "### Deafult constructor"
   ]
  },
  {
   "cell_type": "code",
   "execution_count": 3,
   "id": "2e3ab62e",
   "metadata": {},
   "outputs": [
    {
     "name": "stdout",
     "output_type": "stream",
     "text": [
      "hai\n"
     ]
    }
   ],
   "source": [
    "class test1:\n",
    "    \n",
    "    def __init__(self):\n",
    "        print('hai')\n",
    "        \n",
    "obj = test1()"
   ]
  },
  {
   "cell_type": "code",
   "execution_count": 5,
   "id": "f9bfcc11",
   "metadata": {},
   "outputs": [
    {
     "name": "stdout",
     "output_type": "stream",
     "text": [
      "my name is selva\n",
      "my age is 20\n"
     ]
    }
   ],
   "source": [
    "class student:\n",
    "    \n",
    "    def __init__(self):\n",
    "        name = 'selva'\n",
    "        age = 20\n",
    "        print('my name is', name)\n",
    "        print('my age is', age)\n",
    "        \n",
    "s1 = student()"
   ]
  },
  {
   "cell_type": "code",
   "execution_count": 6,
   "id": "8285605f",
   "metadata": {},
   "outputs": [
    {
     "name": "stdout",
     "output_type": "stream",
     "text": [
      "my name is selva\n",
      "my age is 20\n",
      "my name is selva\n",
      "my age is 20\n"
     ]
    }
   ],
   "source": [
    "class student:\n",
    "    \n",
    "    def __init__(self):\n",
    "        name = 'selva'\n",
    "        age = 20\n",
    "        print('my name is', name)\n",
    "        print('my age is', age)\n",
    "        \n",
    "s1 = student()\n",
    "s2 = student()"
   ]
  },
  {
   "cell_type": "code",
   "execution_count": 7,
   "id": "3ccc28d1",
   "metadata": {},
   "outputs": [
    {
     "name": "stdout",
     "output_type": "stream",
     "text": [
      "2\n"
     ]
    }
   ],
   "source": [
    "class Person:\n",
    "    \n",
    "    def __init__(self):\n",
    "        print('1')\n",
    "        \n",
    "    def __init__(self):\n",
    "        print('2')\n",
    "\n",
    "p1 = Person()"
   ]
  },
  {
   "cell_type": "code",
   "execution_count": 8,
   "id": "485ea9a8",
   "metadata": {},
   "outputs": [
    {
     "name": "stdout",
     "output_type": "stream",
     "text": [
      "2\n",
      "2\n"
     ]
    }
   ],
   "source": [
    "class Person:\n",
    "    \n",
    "    def __init__(self):\n",
    "        print('1')\n",
    "        \n",
    "    def __init__(self):\n",
    "        print('2')\n",
    "\n",
    "p1 = Person()\n",
    "p2 = Person()"
   ]
  },
  {
   "cell_type": "markdown",
   "id": "46784584",
   "metadata": {},
   "source": [
    "### Parameterized Constructor"
   ]
  },
  {
   "cell_type": "code",
   "execution_count": 2,
   "id": "7d264df8",
   "metadata": {},
   "outputs": [
    {
     "name": "stdout",
     "output_type": "stream",
     "text": [
      "my name is John\n",
      "my age is 23\n"
     ]
    }
   ],
   "source": [
    "class Student:\n",
    "    def __init__(self, name, age):\n",
    "        print('my name is', name)\n",
    "        print('my age is', age)\n",
    "        \n",
    "        \n",
    "s1 = Student('John', 23)"
   ]
  },
  {
   "cell_type": "code",
   "execution_count": 3,
   "id": "b52467aa",
   "metadata": {},
   "outputs": [
    {
     "name": "stdout",
     "output_type": "stream",
     "text": [
      "my name is John\n",
      "my age is 20\n"
     ]
    }
   ],
   "source": [
    "class Student:\n",
    "    def __init__(self, name):\n",
    "        age = 20\n",
    "        print('my name is', name)\n",
    "        print('my age is', age)\n",
    "        \n",
    "        \n",
    "s1 = Student('John')"
   ]
  },
  {
   "cell_type": "code",
   "execution_count": 5,
   "id": "c9bf6e0b",
   "metadata": {},
   "outputs": [
    {
     "name": "stdout",
     "output_type": "stream",
     "text": [
      "my name is John\n",
      "my age is 23\n"
     ]
    }
   ],
   "source": [
    "class Student:\n",
    "    def __init__(self, name, age):\n",
    "        self.name = name\n",
    "        self.age = age\n",
    "    \n",
    "    def print1(self):\n",
    "        print('my name is', self.name)\n",
    "        print('my age is', self.age)\n",
    "\n",
    "\n",
    "stu = Student('John', 23)\n",
    "stu.print1()"
   ]
  },
  {
   "cell_type": "code",
   "execution_count": 6,
   "id": "ff9f6ff2",
   "metadata": {},
   "outputs": [
    {
     "name": "stdout",
     "output_type": "stream",
     "text": [
      "my name is John\n",
      "my age is 23\n"
     ]
    }
   ],
   "source": [
    "class Student:\n",
    "    def __init__(self, name, age):\n",
    "        self.n1 = name\n",
    "        self.a1 = age\n",
    "    \n",
    "    def print1(self):\n",
    "        print('my name is', self.n1)\n",
    "        print('my age is', self.a1)\n",
    "\n",
    "\n",
    "stu = Student('John', 23)\n",
    "stu.print1()"
   ]
  },
  {
   "cell_type": "code",
   "execution_count": 7,
   "id": "dd95d887",
   "metadata": {},
   "outputs": [
    {
     "name": "stdout",
     "output_type": "stream",
     "text": [
      "my name is Swetha\n",
      "my age is 25\n"
     ]
    }
   ],
   "source": [
    "class Student:\n",
    "    def __init__(self, name, age):\n",
    "        self.n1 = name\n",
    "        self.a1 = age\n",
    "    \n",
    "    def print1(self):\n",
    "        print('my name is', self.n1)\n",
    "        print('my age is', self.a1)\n",
    "\n",
    "\n",
    "stu = Student('John', 23)\n",
    "stu = Student('Swetha', 25)\n",
    "stu.print1()"
   ]
  },
  {
   "cell_type": "code",
   "execution_count": 8,
   "id": "ab3cd2c1",
   "metadata": {},
   "outputs": [
    {
     "name": "stdout",
     "output_type": "stream",
     "text": [
      "my name is John\n",
      "my age is 23\n",
      "my name is Swetha\n",
      "my age is 25\n"
     ]
    }
   ],
   "source": [
    "class Student:\n",
    "    def __init__(self, name, age):\n",
    "        self.n1 = name\n",
    "        self.a1 = age\n",
    "    \n",
    "    def print1(self):\n",
    "        print('my name is', self.n1)\n",
    "        print('my age is', self.a1)\n",
    "\n",
    "\n",
    "stu = Student('John', 23)\n",
    "stu.print1()\n",
    "stu = Student('Swetha', 25)\n",
    "stu.print1()"
   ]
  },
  {
   "cell_type": "code",
   "execution_count": 9,
   "id": "988e4e57",
   "metadata": {},
   "outputs": [
    {
     "name": "stdout",
     "output_type": "stream",
     "text": [
      "my name is John\n",
      "my age is 23\n",
      "my name is Swetha\n",
      "my age is 25\n"
     ]
    }
   ],
   "source": [
    "class Student:\n",
    "    def __init__(self, name, age):\n",
    "        self.n1 = name\n",
    "        self.a1 = age\n",
    "    \n",
    "    def print1(self):\n",
    "        print('my name is', self.n1)\n",
    "        print('my age is', self.a1)\n",
    "\n",
    "\n",
    "stu = Student('John', 23)\n",
    "stu.print1()\n",
    "stu1 = Student('Swetha', 25)\n",
    "stu1.print1()"
   ]
  },
  {
   "cell_type": "code",
   "execution_count": 10,
   "id": "0f829d84",
   "metadata": {},
   "outputs": [
    {
     "name": "stdout",
     "output_type": "stream",
     "text": [
      "my name is John\n",
      "my age is 23\n",
      "my name is Swetha\n",
      "my age is 25\n"
     ]
    }
   ],
   "source": [
    "class Student:\n",
    "    def __init__(self, name, age):\n",
    "        self.n1 = name\n",
    "        self.a1 = age\n",
    "    \n",
    "    def print1(self):\n",
    "        print('my name is', self.n1)\n",
    "        print('my age is', self.a1)\n",
    "\n",
    "\n",
    "stu = Student('John', 23)\n",
    "\n",
    "stu1 = Student('Swetha', 25)\n",
    "\n",
    "stu.print1()\n",
    "stu1.print1()"
   ]
  },
  {
   "cell_type": "markdown",
   "id": "48461a52",
   "metadata": {},
   "source": [
    "### types in parameterized constructors"
   ]
  },
  {
   "cell_type": "markdown",
   "id": "8bb9acf9",
   "metadata": {},
   "source": [
    "- position\n",
    "- keyword\n",
    "- default\n",
    "- variable length"
   ]
  },
  {
   "cell_type": "code",
   "execution_count": 12,
   "id": "42c30dbc",
   "metadata": {},
   "outputs": [
    {
     "name": "stdout",
     "output_type": "stream",
     "text": [
      "my name is John\n",
      "my age is 23\n"
     ]
    }
   ],
   "source": [
    "# position\n",
    "\n",
    "class Student:\n",
    "    def __init__(self, name, age):\n",
    "        self.name = name\n",
    "        self.age = age\n",
    "    \n",
    "    def print1(self):\n",
    "        print('my name is', self.name)\n",
    "        print('my age is', self.age)\n",
    "\n",
    "\n",
    "stu = Student('John', 23)\n",
    "stu.print1()"
   ]
  },
  {
   "cell_type": "code",
   "execution_count": 14,
   "id": "3957c989",
   "metadata": {},
   "outputs": [
    {
     "name": "stdout",
     "output_type": "stream",
     "text": [
      "my name is John\n",
      "my age is 30\n"
     ]
    }
   ],
   "source": [
    "# default\n",
    "\n",
    "class Student:\n",
    "    def __init__(self, name, age=30):\n",
    "        self.name = name\n",
    "        self.age = age\n",
    "    \n",
    "    def print1(self):\n",
    "        print('my name is', self.name)\n",
    "        print('my age is', self.age)\n",
    "\n",
    "\n",
    "stu = Student('John')\n",
    "stu.print1()"
   ]
  },
  {
   "cell_type": "code",
   "execution_count": 15,
   "id": "c910fdec",
   "metadata": {},
   "outputs": [
    {
     "name": "stdout",
     "output_type": "stream",
     "text": [
      "my name is John\n",
      "my age is 23\n"
     ]
    }
   ],
   "source": [
    "# default\n",
    "\n",
    "class Student:\n",
    "    def __init__(self, name, age=30):\n",
    "        self.name = name\n",
    "        self.age = age\n",
    "    \n",
    "    def print1(self):\n",
    "        print('my name is', self.name)\n",
    "        print('my age is', self.age)\n",
    "\n",
    "\n",
    "stu = Student('John', 23)\n",
    "stu.print1()"
   ]
  },
  {
   "cell_type": "code",
   "execution_count": 17,
   "id": "5fd6c3fe",
   "metadata": {},
   "outputs": [
    {
     "name": "stdout",
     "output_type": "stream",
     "text": [
      "my name is Swetha\n",
      "my age is 23\n"
     ]
    }
   ],
   "source": [
    "# default\n",
    "\n",
    "class Student:\n",
    "    def __init__(self, name = 'John', age=30):\n",
    "        self.name = name\n",
    "        self.age = age\n",
    "    \n",
    "    def print1(self):\n",
    "        print('my name is', self.name)\n",
    "        print('my age is', self.age)\n",
    "\n",
    "\n",
    "stu = Student('Swetha', 23)\n",
    "stu.print1()"
   ]
  },
  {
   "cell_type": "code",
   "execution_count": 18,
   "id": "dab26de6",
   "metadata": {},
   "outputs": [
    {
     "name": "stdout",
     "output_type": "stream",
     "text": [
      "Sum: 100\n"
     ]
    }
   ],
   "source": [
    "# variable length\n",
    "\n",
    "class Test:\n",
    "    z=0\n",
    "    def __init__(self, x, *y):\n",
    "        z=x\n",
    "        for i in y:\n",
    "            z=z+i\n",
    "        print('Sum:', z)\n",
    "        \n",
    "\n",
    "obj = Test(10, 20, 30, 40)"
   ]
  },
  {
   "cell_type": "code",
   "execution_count": 20,
   "id": "aee36a8c",
   "metadata": {},
   "outputs": [
    {
     "data": {
      "text/plain": [
       "0"
      ]
     },
     "execution_count": 20,
     "metadata": {},
     "output_type": "execute_result"
    }
   ],
   "source": [
    "Test.z"
   ]
  },
  {
   "cell_type": "code",
   "execution_count": 21,
   "id": "8d208b31",
   "metadata": {},
   "outputs": [
    {
     "name": "stdout",
     "output_type": "stream",
     "text": [
      "name John\n",
      "age 43\n",
      "city chennai\n",
      "ph 1234567890\n"
     ]
    }
   ],
   "source": [
    "class Test:\n",
    "    def __init__(self, name, **values):\n",
    "        print(\"name\", name)\n",
    "        print(\"age\", values['age'])\n",
    "        print(\"city\", values['city'])\n",
    "        print(\"ph\", values['ph'])\n",
    "        \n",
    "obj = Test('John', age = 43, city = 'chennai', ph = 1234567890)"
   ]
  },
  {
   "cell_type": "code",
   "execution_count": 22,
   "id": "f986e59d",
   "metadata": {},
   "outputs": [
    {
     "name": "stdout",
     "output_type": "stream",
     "text": [
      "Area of triangle 35.0\n"
     ]
    }
   ],
   "source": [
    "class Triangle:\n",
    "    def __init__(self, b, h):\n",
    "        self.base = b\n",
    "        self.height = h\n",
    "        self.area = self.base * self.height * 0.5\n",
    "        print('Area of triangle', self.area)\n",
    "        \n",
    "obj = Triangle(7, 10)"
   ]
  },
  {
   "cell_type": "code",
   "execution_count": 23,
   "id": "8f8c0063",
   "metadata": {},
   "outputs": [
    {
     "name": "stdout",
     "output_type": "stream",
     "text": [
      "Area of triangle 35.0\n"
     ]
    }
   ],
   "source": [
    "class Triangle:\n",
    "    def __init__(self, b, h):\n",
    "        base = b\n",
    "        height = h\n",
    "        area = base * height * 0.5\n",
    "        print('Area of triangle', area)\n",
    "        \n",
    "obj = Triangle(7, 10)"
   ]
  },
  {
   "cell_type": "code",
   "execution_count": 24,
   "id": "947f2f5f",
   "metadata": {},
   "outputs": [
    {
     "name": "stdout",
     "output_type": "stream",
     "text": [
      "Area of triangle 35.0\n"
     ]
    }
   ],
   "source": [
    "class Triangle:\n",
    "    def __init__(self, b, h):\n",
    "        self.base = b\n",
    "        self.height = h\n",
    "        \n",
    "    def area(self):\n",
    "        self.area = self.base * self.height * 0.5\n",
    "        print('Area of triangle', self.area)\n",
    "        \n",
    "obj = Triangle(7, 10)\n",
    "obj.area()"
   ]
  },
  {
   "cell_type": "code",
   "execution_count": 25,
   "id": "e46286de",
   "metadata": {},
   "outputs": [
    {
     "ename": "NameError",
     "evalue": "name 'base' is not defined",
     "output_type": "error",
     "traceback": [
      "\u001b[1;31m---------------------------------------------------------------------------\u001b[0m",
      "\u001b[1;31mNameError\u001b[0m                                 Traceback (most recent call last)",
      "Cell \u001b[1;32mIn[25], line 11\u001b[0m\n\u001b[0;32m      8\u001b[0m         \u001b[38;5;28mprint\u001b[39m(\u001b[38;5;124m'\u001b[39m\u001b[38;5;124mArea of triangle\u001b[39m\u001b[38;5;124m'\u001b[39m, area)\n\u001b[0;32m     10\u001b[0m obj \u001b[38;5;241m=\u001b[39m Triangle(\u001b[38;5;241m7\u001b[39m, \u001b[38;5;241m10\u001b[39m)\n\u001b[1;32m---> 11\u001b[0m obj\u001b[38;5;241m.\u001b[39marea()\n",
      "Cell \u001b[1;32mIn[25], line 7\u001b[0m, in \u001b[0;36mTriangle.area\u001b[1;34m(self)\u001b[0m\n\u001b[0;32m      6\u001b[0m \u001b[38;5;28;01mdef\u001b[39;00m \u001b[38;5;21marea\u001b[39m(\u001b[38;5;28mself\u001b[39m):\n\u001b[1;32m----> 7\u001b[0m     area \u001b[38;5;241m=\u001b[39m base \u001b[38;5;241m*\u001b[39m height \u001b[38;5;241m*\u001b[39m \u001b[38;5;241m0.5\u001b[39m\n\u001b[0;32m      8\u001b[0m     \u001b[38;5;28mprint\u001b[39m(\u001b[38;5;124m'\u001b[39m\u001b[38;5;124mArea of triangle\u001b[39m\u001b[38;5;124m'\u001b[39m, area)\n",
      "\u001b[1;31mNameError\u001b[0m: name 'base' is not defined"
     ]
    }
   ],
   "source": [
    "class Triangle:\n",
    "    def __init__(self, b, h):\n",
    "        base = b\n",
    "        height = h\n",
    "        \n",
    "    def area(self):\n",
    "        area = base * height * 0.5\n",
    "        print('Area of triangle', area)\n",
    "        \n",
    "obj = Triangle(7, 10)\n",
    "obj.area()"
   ]
  },
  {
   "cell_type": "code",
   "execution_count": null,
   "id": "55a1f635",
   "metadata": {},
   "outputs": [],
   "source": []
  },
  {
   "cell_type": "code",
   "execution_count": null,
   "id": "31c97890",
   "metadata": {},
   "outputs": [],
   "source": []
  }
 ],
 "metadata": {
  "kernelspec": {
   "display_name": "Python 3 (ipykernel)",
   "language": "python",
   "name": "python3"
  },
  "language_info": {
   "codemirror_mode": {
    "name": "ipython",
    "version": 3
   },
   "file_extension": ".py",
   "mimetype": "text/x-python",
   "name": "python",
   "nbconvert_exporter": "python",
   "pygments_lexer": "ipython3",
   "version": "3.11.4"
  }
 },
 "nbformat": 4,
 "nbformat_minor": 5
}
